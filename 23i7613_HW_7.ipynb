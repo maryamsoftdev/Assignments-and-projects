{
 "cells": [
  {
   "cell_type": "code",
   "execution_count": 2,
   "metadata": {
    "colab": {
     "base_uri": "https://localhost:8080/",
     "height": 910
    },
    "id": "8ULseK2GmT4w",
    "outputId": "8a510e81-3591-4373-80e6-31904d3daba6"
   },
   "outputs": [
    {
     "ename": "ModuleNotFoundError",
     "evalue": "No module named 'cv2'",
     "output_type": "error",
     "traceback": [
      "\u001b[0;31m---------------------------------------------------------------------------\u001b[0m",
      "\u001b[0;31mModuleNotFoundError\u001b[0m                       Traceback (most recent call last)",
      "Cell \u001b[0;32mIn[2], line 5\u001b[0m\n\u001b[1;32m      3\u001b[0m \u001b[38;5;28;01mimport\u001b[39;00m \u001b[38;5;21;01mmatplotlib\u001b[39;00m\u001b[38;5;21;01m.\u001b[39;00m\u001b[38;5;21;01mpyplot\u001b[39;00m \u001b[38;5;28;01mas\u001b[39;00m \u001b[38;5;21;01mplt\u001b[39;00m\n\u001b[1;32m      4\u001b[0m \u001b[38;5;28;01mfrom\u001b[39;00m \u001b[38;5;21;01msklearn\u001b[39;00m\u001b[38;5;21;01m.\u001b[39;00m\u001b[38;5;21;01mdecomposition\u001b[39;00m \u001b[38;5;28;01mimport\u001b[39;00m PCA\n\u001b[0;32m----> 5\u001b[0m \u001b[38;5;28;01mimport\u001b[39;00m \u001b[38;5;21;01mcv2\u001b[39;00m\n\u001b[1;32m      7\u001b[0m \u001b[38;5;66;03m# Load image\u001b[39;00m\n\u001b[1;32m      8\u001b[0m img \u001b[38;5;241m=\u001b[39m cv2\u001b[38;5;241m.\u001b[39mimread(\u001b[38;5;124m'\u001b[39m\u001b[38;5;124m/content/horse.jpeg\u001b[39m\u001b[38;5;124m'\u001b[39m)\n",
      "\u001b[0;31mModuleNotFoundError\u001b[0m: No module named 'cv2'"
     ]
    }
   ],
   "source": [
    "import numpy as np\n",
    "import pandas as pd\n",
    "import matplotlib.pyplot as plt\n",
    "from sklearn.decomposition import PCA\n",
    "import cv2\n",
    "\n",
    "# Load image\n",
    "img = cv2.imread('/content/horse.jpeg')\n",
    "img_rgb = cv2.cvtColor(img, cv2.COLOR_BGR2RGB)\n",
    "\n",
    "plt.imshow(img_rgb)\n",
    "plt.title('Original Image')\n",
    "plt.show()\n",
    "print(img_rgb.shape)\n",
    "\n",
    "red, green, blue = cv2.split(img_rgb)\n",
    "\n",
    "# Normalize the channels\n",
    "red = red.astype(float) / 255.0\n",
    "green = green.astype(float) / 255.0\n",
    "blue = blue.astype(float) / 255.0\n",
    "blue /= 255.0\n",
    "\n",
    "# Perform PCA from scratch\n",
    "class PCAFromScratch:\n",
    "    def __init__(self, n_components):\n",
    "        self.n_components = n_components\n",
    "        self.mean = None\n",
    "        self.components = None\n",
    "\n",
    "    def fit(self, X):\n",
    "        self.mean = np.mean(X, axis=0)\n",
    "        centered_data = X - self.mean\n",
    "\n",
    "        cov_matrix = np.cov(centered_data, rowvar=False)\n",
    "        eigenvalues, eigenvectors = np.linalg.eigh(cov_matrix)\n",
    "        sorted_indices = np.argsort(eigenvalues)[::-1]\n",
    "        self.components = eigenvectors[:, sorted_indices[:self.n_components]]\n",
    "\n",
    "    def transform(self, X):\n",
    "        # Center the input data\n",
    "        centered_data = X - self.mean\n",
    "        reduced_data = np.dot(centered_data, self.components)\n",
    "\n",
    "        return reduced_data\n",
    "\n",
    "    def inverse_transform(self, X_reduced):\n",
    "        return np.dot(X_reduced, self.components.T) + self.mean\n",
    "\n",
    "# Number of components for PCA\n",
    "n_components = 10\n",
    "\n",
    "# Create an instance of the PCA class\n",
    "pca_red = PCAFromScratch(n_components)\n",
    "pca_green = PCAFromScratch(n_components)\n",
    "pca_blue = PCAFromScratch(n_components)\n",
    "\n",
    "# Fit the PCA model to each channel\n",
    "pca_red.fit(red)\n",
    "pca_green.fit(green)\n",
    "pca_blue.fit(blue)\n",
    "\n",
    "# Transform each channel\n",
    "red_transformed = pca_red.transform(red)\n",
    "green_transformed = pca_green.transform(green)\n",
    "blue_transformed = pca_blue.transform(blue)\n",
    "\n",
    "# Check the shape of each transformed channel\n",
    "print(red_transformed.shape, green_transformed.shape, blue_transformed.shape)\n",
    "\n",
    "# Inverse transform to recover the original data shape\n",
    "red_reconstructed = pca_red.inverse_transform(red_transformed)\n",
    "green_reconstructed = pca_green.inverse_transform(green_transformed)\n",
    "blue_reconstructed = pca_blue.inverse_transform(blue_transformed)\n",
    "\n",
    "# Check the shape of each reconstructed channel\n",
    "print(red_reconstructed.shape, green_reconstructed.shape, blue_reconstructed.shape)\n",
    "\n",
    "# Merge all the inverse transforms into one\n",
    "merged_reconstructed = cv2.merge([red_reconstructed, green_reconstructed, blue_reconstructed])\n",
    "\n",
    "# Display the original image and the compressed image obtained after merging\n",
    "plt.subplot(1, 2, 1)\n",
    "plt.imshow(img_rgb)\n",
    "plt.title('Original Image')\n",
    "\n",
    "plt.subplot(1, 2, 2)\n",
    "plt.imshow(np.clip(merged_reconstructed, 0, 1))  # Clip to the valid range [0, 1]\n",
    "plt.title('Compressed Image')\n",
    "\n",
    "plt.show()\n"
   ]
  },
  {
   "cell_type": "markdown",
   "metadata": {
    "id": "CHEo2dOuvrUZ"
   },
   "source": [
    "Check the shape of image"
   ]
  }
 ],
 "metadata": {
  "colab": {
   "provenance": []
  },
  "kernelspec": {
   "display_name": "Python 3 (ipykernel)",
   "language": "python",
   "name": "python3"
  },
  "language_info": {
   "codemirror_mode": {
    "name": "ipython",
    "version": 3
   },
   "file_extension": ".py",
   "mimetype": "text/x-python",
   "name": "python",
   "nbconvert_exporter": "python",
   "pygments_lexer": "ipython3",
   "version": "3.11.5"
  }
 },
 "nbformat": 4,
 "nbformat_minor": 1
}
