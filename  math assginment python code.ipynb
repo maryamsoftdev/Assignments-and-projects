{
 "cells": [
  {
   "cell_type": "code",
   "execution_count": 4,
   "id": "6b88f7c5",
   "metadata": {},
   "outputs": [
    {
     "name": "stdout",
     "output_type": "stream",
     "text": [
      "Eigenvalues:\n",
      "[ 1.47264727e+02  1.25477667e+02  4.22576061e+01  5.04615973e-15\n",
      " -1.61974160e-15]\n",
      "\n",
      "Eigenvectors:\n",
      "[[-9.99690078e-01 -2.05279422e-03 -2.48099695e-02  1.46920148e-18\n",
      "   3.79680292e-18]\n",
      " [ 4.34280005e-03  2.58241853e-01 -1.96355401e-01 -4.73131957e-01\n",
      "  -9.08606971e-01]\n",
      " [ 6.51420008e-03  3.87362779e-01 -2.94533101e-01  8.26010662e-01\n",
      "  -7.80774619e-02]\n",
      " [-2.09899829e-02  6.05352515e-01  7.95680685e-01 -6.73847719e-18\n",
      "  -1.12063399e-16]\n",
      " [ 1.08570001e-02  6.45604632e-01 -4.90888502e-01 -3.06353615e-01\n",
      "   4.10289266e-01]]\n"
     ]
    }
   ],
   "source": [
    "import numpy as np\n",
    "\n",
    "# Create a 5x5 data matrix (replace this with your own dataset)\n",
    "data_matrix = np.array([[2, 4, 6, 8, 10],\n",
    "                        [32, 8, 12, 16, 20],\n",
    "                        [14, 6, 9, 30, 15],\n",
    "                        [5, 10, 15, 24, 25],\n",
    "                        [6, 12, 18, 24, 30]])\n",
    "\n",
    "# Calculate the covariance matrix\n",
    "covariance_matrix = np.cov(data_matrix, rowvar=False)\n",
    "\n",
    "# Calculate the eigenvalues and eigenvectors\n",
    "eigenvalues, eigenvectors = np.linalg.eig(covariance_matrix)\n",
    "\n",
    "# Sort the eigenvectors by eigenvalues\n",
    "eigenvalue_indices = np.argsort(eigenvalues)[::-1]\n",
    "eigenvalues = eigenvalues[eigenvalue_indices]\n",
    "eigenvectors = eigenvectors[:, eigenvalue_indices]\n",
    "\n",
    "# Print the results\n",
    "print(\"Eigenvalues:\")\n",
    "print(eigenvalues)\n",
    "\n",
    "print(\"\\nEigenvectors:\")\n",
    "print(eigenvectors)\n"
   ]
  },
  {
   "cell_type": "code",
   "execution_count": null,
   "id": "dc321f23",
   "metadata": {},
   "outputs": [],
   "source": []
  }
 ],
 "metadata": {
  "kernelspec": {
   "display_name": "Python 3 (ipykernel)",
   "language": "python",
   "name": "python3"
  },
  "language_info": {
   "codemirror_mode": {
    "name": "ipython",
    "version": 3
   },
   "file_extension": ".py",
   "mimetype": "text/x-python",
   "name": "python",
   "nbconvert_exporter": "python",
   "pygments_lexer": "ipython3",
   "version": "3.11.5"
  }
 },
 "nbformat": 4,
 "nbformat_minor": 5
}
