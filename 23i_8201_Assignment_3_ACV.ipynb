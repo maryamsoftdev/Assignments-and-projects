{
 "cells": [
  {
   "cell_type": "code",
   "execution_count": 24,
   "id": "2f125bd8",
   "metadata": {},
   "outputs": [
    {
     "name": "stdout",
     "output_type": "stream",
     "text": [
      "Requirement already satisfied: optuna in /Users/maryamsoftdev/anaconda3/lib/python3.11/site-packages (3.6.1)\n",
      "Requirement already satisfied: alembic>=1.5.0 in /Users/maryamsoftdev/anaconda3/lib/python3.11/site-packages (from optuna) (1.13.1)\n",
      "Requirement already satisfied: colorlog in /Users/maryamsoftdev/anaconda3/lib/python3.11/site-packages (from optuna) (6.8.2)\n",
      "Requirement already satisfied: numpy in /Users/maryamsoftdev/anaconda3/lib/python3.11/site-packages (from optuna) (1.24.3)\n",
      "Requirement already satisfied: packaging>=20.0 in /Users/maryamsoftdev/anaconda3/lib/python3.11/site-packages (from optuna) (23.1)\n",
      "Requirement already satisfied: sqlalchemy>=1.3.0 in /Users/maryamsoftdev/anaconda3/lib/python3.11/site-packages (from optuna) (1.4.39)\n",
      "Requirement already satisfied: tqdm in /Users/maryamsoftdev/anaconda3/lib/python3.11/site-packages (from optuna) (4.65.0)\n",
      "Requirement already satisfied: PyYAML in /Users/maryamsoftdev/anaconda3/lib/python3.11/site-packages (from optuna) (6.0)\n",
      "Requirement already satisfied: Mako in /Users/maryamsoftdev/anaconda3/lib/python3.11/site-packages (from alembic>=1.5.0->optuna) (1.3.3)\n",
      "Requirement already satisfied: typing-extensions>=4 in /Users/maryamsoftdev/anaconda3/lib/python3.11/site-packages (from alembic>=1.5.0->optuna) (4.11.0)\n",
      "Requirement already satisfied: MarkupSafe>=0.9.2 in /Users/maryamsoftdev/anaconda3/lib/python3.11/site-packages (from Mako->alembic>=1.5.0->optuna) (2.1.1)\n",
      "Requirement already satisfied: efficientnet_pytorch in /Users/maryamsoftdev/anaconda3/lib/python3.11/site-packages (0.7.1)\n",
      "Requirement already satisfied: torch in /Users/maryamsoftdev/anaconda3/lib/python3.11/site-packages (from efficientnet_pytorch) (2.2.2)\n",
      "Requirement already satisfied: filelock in /Users/maryamsoftdev/anaconda3/lib/python3.11/site-packages (from torch->efficientnet_pytorch) (3.9.0)\n",
      "Requirement already satisfied: typing-extensions>=4.8.0 in /Users/maryamsoftdev/anaconda3/lib/python3.11/site-packages (from torch->efficientnet_pytorch) (4.11.0)\n",
      "Requirement already satisfied: sympy in /Users/maryamsoftdev/anaconda3/lib/python3.11/site-packages (from torch->efficientnet_pytorch) (1.11.1)\n",
      "Requirement already satisfied: networkx in /Users/maryamsoftdev/anaconda3/lib/python3.11/site-packages (from torch->efficientnet_pytorch) (3.1)\n",
      "Requirement already satisfied: jinja2 in /Users/maryamsoftdev/anaconda3/lib/python3.11/site-packages (from torch->efficientnet_pytorch) (3.1.2)\n",
      "Requirement already satisfied: fsspec in /Users/maryamsoftdev/anaconda3/lib/python3.11/site-packages (from torch->efficientnet_pytorch) (2023.4.0)\n",
      "Requirement already satisfied: MarkupSafe>=2.0 in /Users/maryamsoftdev/anaconda3/lib/python3.11/site-packages (from jinja2->torch->efficientnet_pytorch) (2.1.1)\n",
      "Requirement already satisfied: mpmath>=0.19 in /Users/maryamsoftdev/anaconda3/lib/python3.11/site-packages (from sympy->torch->efficientnet_pytorch) (1.3.0)\n"
     ]
    }
   ],
   "source": [
    "!pip install optuna\n",
    "!pip install efficientnet_pytorch\n"
   ]
  },
  {
   "cell_type": "code",
   "execution_count": 25,
   "id": "b36b104f",
   "metadata": {},
   "outputs": [],
   "source": [
    "\n",
    "import torch\n",
    "import pytorch_lightning as pl\n",
    "import optuna\n",
    "from torchvision import transforms\n",
    "from torchvision.datasets import ImageFolder\n",
    "from torch.utils.data import DataLoader\n",
    "from torchvision.models import resnet18, resnet50\n",
    "from efficientnet_pytorch import EfficientNet\n",
    "import wandb"
   ]
  },
  {
   "cell_type": "code",
   "execution_count": 26,
   "id": "f9114aa1",
   "metadata": {},
   "outputs": [
    {
     "data": {
      "text/html": [
       "Finishing last run (ID:uv68hzsw) before initializing another..."
      ],
      "text/plain": [
       "<IPython.core.display.HTML object>"
      ]
     },
     "metadata": {},
     "output_type": "display_data"
    },
    {
     "data": {
      "application/vnd.jupyter.widget-view+json": {
       "model_id": "",
       "version_major": 2,
       "version_minor": 0
      },
      "text/plain": [
       "VBox(children=(Label(value='0.001 MB of 0.029 MB uploaded\\r'), FloatProgress(value=0.025984993666157793, max=1…"
      ]
     },
     "metadata": {},
     "output_type": "display_data"
    },
    {
     "data": {
      "text/html": [
       " View run <strong style=\"color:#cdcd00\">faithful-grass-2</strong> at: <a href='https://wandb.ai/nuces24/uncategorized/runs/uv68hzsw' target=\"_blank\">https://wandb.ai/nuces24/uncategorized/runs/uv68hzsw</a><br/> View project at: <a href='https://wandb.ai/nuces24/uncategorized' target=\"_blank\">https://wandb.ai/nuces24/uncategorized</a><br/>Synced 6 W&B file(s), 0 media file(s), 0 artifact file(s) and 0 other file(s)"
      ],
      "text/plain": [
       "<IPython.core.display.HTML object>"
      ]
     },
     "metadata": {},
     "output_type": "display_data"
    },
    {
     "data": {
      "text/html": [
       "Find logs at: <code>./wandb/run-20240428_192634-uv68hzsw/logs</code>"
      ],
      "text/plain": [
       "<IPython.core.display.HTML object>"
      ]
     },
     "metadata": {},
     "output_type": "display_data"
    },
    {
     "data": {
      "text/html": [
       "Successfully finished last run (ID:uv68hzsw). Initializing new run:<br/>"
      ],
      "text/plain": [
       "<IPython.core.display.HTML object>"
      ]
     },
     "metadata": {},
     "output_type": "display_data"
    },
    {
     "data": {
      "application/vnd.jupyter.widget-view+json": {
       "model_id": "d5c1259153394dafa5506ff82a8e8fef",
       "version_major": 2,
       "version_minor": 0
      },
      "text/plain": [
       "VBox(children=(Label(value='Waiting for wandb.init()...\\r'), FloatProgress(value=0.01116753888911464, max=1.0)…"
      ]
     },
     "metadata": {},
     "output_type": "display_data"
    },
    {
     "data": {
      "text/html": [
       "Tracking run with wandb version 0.16.6"
      ],
      "text/plain": [
       "<IPython.core.display.HTML object>"
      ]
     },
     "metadata": {},
     "output_type": "display_data"
    },
    {
     "data": {
      "text/html": [
       "Run data is saved locally in <code>/Users/maryamsoftdev/Downloads/wandb/run-20240428_193604-vu1i5m8o</code>"
      ],
      "text/plain": [
       "<IPython.core.display.HTML object>"
      ]
     },
     "metadata": {},
     "output_type": "display_data"
    },
    {
     "data": {
      "text/html": [
       "Syncing run <strong><a href='https://wandb.ai/nuces24/uncategorized/runs/vu1i5m8o' target=\"_blank\">astral-waterfall-3</a></strong> to <a href='https://wandb.ai/nuces24/uncategorized' target=\"_blank\">Weights & Biases</a> (<a href='https://wandb.me/run' target=\"_blank\">docs</a>)<br/>"
      ],
      "text/plain": [
       "<IPython.core.display.HTML object>"
      ]
     },
     "metadata": {},
     "output_type": "display_data"
    },
    {
     "data": {
      "text/html": [
       " View project at <a href='https://wandb.ai/nuces24/uncategorized' target=\"_blank\">https://wandb.ai/nuces24/uncategorized</a>"
      ],
      "text/plain": [
       "<IPython.core.display.HTML object>"
      ]
     },
     "metadata": {},
     "output_type": "display_data"
    },
    {
     "data": {
      "text/html": [
       " View run at <a href='https://wandb.ai/nuces24/uncategorized/runs/vu1i5m8o' target=\"_blank\">https://wandb.ai/nuces24/uncategorized/runs/vu1i5m8o</a>"
      ],
      "text/plain": [
       "<IPython.core.display.HTML object>"
      ]
     },
     "metadata": {},
     "output_type": "display_data"
    },
    {
     "data": {
      "text/html": [
       "<button onClick=\"this.nextSibling.style.display='block';this.style.display='none';\">Display W&B run</button><iframe src='https://wandb.ai/nuces24/uncategorized/runs/vu1i5m8o?jupyter=true' style='border:none;width:100%;height:420px;display:none;'></iframe>"
      ],
      "text/plain": [
       "<wandb.sdk.wandb_run.Run at 0x16dd9fad0>"
      ]
     },
     "execution_count": 26,
     "metadata": {},
     "output_type": "execute_result"
    }
   ],
   "source": [
    "# Initialize WandB\n",
    "wandb.init()"
   ]
  },
  {
   "cell_type": "code",
   "execution_count": 27,
   "id": "70cb981f",
   "metadata": {},
   "outputs": [],
   "source": [
    "class ImageClassificationModel(pl.LightningModule):\n",
    "    def __init__(self, backbone, learning_rate):\n",
    "        super().__init__()\n",
    "        self.backbone = backbone\n",
    "        self.learning_rate = learning_rate\n",
    "        \n",
    "        # Define backbone architecture\n",
    "        if backbone == 'ResNet':\n",
    "            self.model = resnet18(pretrained=True)\n",
    "            num_ftrs = self.model.fc.in_features\n",
    "            self.model.fc = torch.nn.Linear(num_ftrs, 6)\n",
    "        elif backbone == 'EfficientNet':\n",
    "            self.model = EfficientNet.from_pretrained('efficientnet-b0', num_classes=6)\n",
    "            \n",
    "        self.criterion = torch.nn.CrossEntropyLoss()    \n",
    "    def forward(self, x):\n",
    "        return self.model(x)\n",
    "    \n",
    "    def configure_optimizers(self):\n",
    "        optimizer = torch.optim.Adam(self.model.parameters(), lr=self.learning_rate)\n",
    "        return optimizer\n",
    "    \n",
    "    def training_step(self, batch, batch_idx):\n",
    "        x, y = batch\n",
    "        logits = self.model(x)\n",
    "        loss = self.criterion(logits, y)\n",
    "        self.log('train_loss', loss)\n",
    "        return loss\n",
    "    \n",
    "    def validation_step(self, batch, batch_idx):\n",
    "        x, y = batch\n",
    "        logits = self.model(x)\n",
    "        loss = self.criterion(logits, y)\n",
    "        self.log('val_loss', loss)\n",
    "    \n",
    "    def test_step(self, batch, batch_idx):\n",
    "        x, y = batch\n",
    "        logits = self.model(x)\n",
    "        loss = self.criterion(logits, y)\n",
    "        self.log('test_loss', loss)\n",
    "        "
   ]
  },
  {
   "cell_type": "code",
   "execution_count": 28,
   "id": "760b9e7c",
   "metadata": {},
   "outputs": [],
   "source": [
    "# Load data\n",
    "train_data = ImageFolder(root='archive/seg_train/seg_train/', transform=transforms.Compose([\n",
    "    transforms.Resize((150, 150)),\n",
    "    transforms.ToTensor(),\n",
    "]))\n",
    "train_loader = DataLoader(train_data, batch_size=64, shuffle=True)\n",
    "\n",
    "test_data = ImageFolder(root=\"archive/seg_test/seg_test/\", transform=transforms.Compose([\n",
    "    transforms.Resize((150, 150)),\n",
    "    transforms.ToTensor(),\n",
    "]))\n",
    "test_loader = DataLoader(test_data, batch_size=64)\n",
    "\n"
   ]
  },
  {
   "cell_type": "code",
   "execution_count": 29,
   "id": "7224ea88",
   "metadata": {},
   "outputs": [],
   "source": [
    "# Define objective function for Optuna\n",
    "def objective(trial):\n",
    "    backbone = trial.suggest_categorical('backbone', ['ResNet', 'EfficientNet'])\n",
    "    learning_rate = trial.suggest_loguniform('learning_rate', 1e-5, 1e-2)\n",
    "    \n",
    "    model = ImageClassificationModel(backbone=backbone, learning_rate=learning_rate)\n",
    "    trainer = pl.Trainer(max_epochs=1)  # Change max_epochs to 1\n",
    "    trainer.fit(model, train_loader, test_loader)\n",
    "    \n",
    "    # return validation loss as the metric to minimize\n",
    "    return trainer.logged_metrics['val_loss'].item()"
   ]
  },
  {
   "cell_type": "code",
   "execution_count": 30,
   "id": "f561d5a6",
   "metadata": {},
   "outputs": [
    {
     "name": "stderr",
     "output_type": "stream",
     "text": [
      "[I 2024-04-28 19:36:22,663] A new study created in memory with name: no-name-f50e9157-6d51-4dff-ae11-9529e20877b9\n",
      "/var/folders/5_/t39737k95_39n36vnz35wm100000gn/T/ipykernel_71485/3477474084.py:4: FutureWarning: suggest_loguniform has been deprecated in v3.0.0. This feature will be removed in v6.0.0. See https://github.com/optuna/optuna/releases/tag/v3.0.0. Use suggest_float(..., log=True) instead.\n",
      "  learning_rate = trial.suggest_loguniform('learning_rate', 1e-5, 1e-2)\n",
      "Downloading: \"https://github.com/lukemelas/EfficientNet-PyTorch/releases/download/1.0/efficientnet-b0-355c32eb.pth\" to /Users/maryamsoftdev/.cache/torch/hub/checkpoints/efficientnet-b0-355c32eb.pth\n",
      "100%|██████████████████████████████████████| 20.4M/20.4M [00:12<00:00, 1.73MB/s]\n"
     ]
    },
    {
     "name": "stdout",
     "output_type": "stream",
     "text": [
      "Loaded pretrained weights for efficientnet-b0\n"
     ]
    },
    {
     "name": "stderr",
     "output_type": "stream",
     "text": [
      "GPU available: True (mps), used: True\n",
      "TPU available: False, using: 0 TPU cores\n",
      "IPU available: False, using: 0 IPUs\n",
      "HPU available: False, using: 0 HPUs\n",
      "Missing logger folder: /Users/maryamsoftdev/Downloads/lightning_logs\n",
      "\n",
      "  | Name      | Type             | Params\n",
      "-----------------------------------------------\n",
      "0 | model     | EfficientNet     | 4.0 M \n",
      "1 | criterion | CrossEntropyLoss | 0     \n",
      "-----------------------------------------------\n",
      "4.0 M     Trainable params\n",
      "0         Non-trainable params\n",
      "4.0 M     Total params\n",
      "16.061    Total estimated model params size (MB)\n"
     ]
    },
    {
     "data": {
      "application/vnd.jupyter.widget-view+json": {
       "model_id": "",
       "version_major": 2,
       "version_minor": 0
      },
      "text/plain": [
       "Sanity Checking: |                                        | 0/? [00:00<?, ?it/s]"
      ]
     },
     "metadata": {},
     "output_type": "display_data"
    },
    {
     "name": "stderr",
     "output_type": "stream",
     "text": [
      "/Users/maryamsoftdev/anaconda3/lib/python3.11/site-packages/pytorch_lightning/trainer/connectors/data_connector.py:441: The 'val_dataloader' does not have many workers which may be a bottleneck. Consider increasing the value of the `num_workers` argument` to `num_workers=7` in the `DataLoader` to improve performance.\n",
      "/Users/maryamsoftdev/anaconda3/lib/python3.11/site-packages/pytorch_lightning/trainer/connectors/data_connector.py:441: The 'train_dataloader' does not have many workers which may be a bottleneck. Consider increasing the value of the `num_workers` argument` to `num_workers=7` in the `DataLoader` to improve performance.\n"
     ]
    },
    {
     "data": {
      "application/vnd.jupyter.widget-view+json": {
       "model_id": "1242c418ca984190bf6d3b64cd7418f3",
       "version_major": 2,
       "version_minor": 0
      },
      "text/plain": [
       "Training: |                                               | 0/? [00:00<?, ?it/s]"
      ]
     },
     "metadata": {},
     "output_type": "display_data"
    },
    {
     "name": "stderr",
     "output_type": "stream",
     "text": [
      "python(72470) MallocStackLogging: can't turn off malloc stack logging because it was not enabled.\n",
      "python(72471) MallocStackLogging: can't turn off malloc stack logging because it was not enabled.\n",
      "python(72472) MallocStackLogging: can't turn off malloc stack logging because it was not enabled.\n",
      "python(72473) MallocStackLogging: can't turn off malloc stack logging because it was not enabled.\n",
      "python(72475) MallocStackLogging: can't turn off malloc stack logging because it was not enabled.\n",
      "python(72478) MallocStackLogging: can't turn off malloc stack logging because it was not enabled.\n",
      "python(72484) MallocStackLogging: can't turn off malloc stack logging because it was not enabled.\n",
      "python(72489) MallocStackLogging: can't turn off malloc stack logging because it was not enabled.\n",
      "python(72496) MallocStackLogging: can't turn off malloc stack logging because it was not enabled.\n",
      "python(72499) MallocStackLogging: can't turn off malloc stack logging because it was not enabled.\n",
      "python(72504) MallocStackLogging: can't turn off malloc stack logging because it was not enabled.\n",
      "python(72506) MallocStackLogging: can't turn off malloc stack logging because it was not enabled.\n",
      "python(72514) MallocStackLogging: can't turn off malloc stack logging because it was not enabled.\n",
      "python(72517) MallocStackLogging: can't turn off malloc stack logging because it was not enabled.\n",
      "python(72522) MallocStackLogging: can't turn off malloc stack logging because it was not enabled.\n",
      "python(72524) MallocStackLogging: can't turn off malloc stack logging because it was not enabled.\n",
      "python(72527) MallocStackLogging: can't turn off malloc stack logging because it was not enabled.\n",
      "python(72530) MallocStackLogging: can't turn off malloc stack logging because it was not enabled.\n",
      "python(72536) MallocStackLogging: can't turn off malloc stack logging because it was not enabled.\n",
      "python(72538) MallocStackLogging: can't turn off malloc stack logging because it was not enabled.\n",
      "python(72540) MallocStackLogging: can't turn off malloc stack logging because it was not enabled.\n",
      "python(72542) MallocStackLogging: can't turn off malloc stack logging because it was not enabled.\n",
      "python(72556) MallocStackLogging: can't turn off malloc stack logging because it was not enabled.\n",
      "python(72561) MallocStackLogging: can't turn off malloc stack logging because it was not enabled.\n",
      "python(72562) MallocStackLogging: can't turn off malloc stack logging because it was not enabled.\n",
      "python(72564) MallocStackLogging: can't turn off malloc stack logging because it was not enabled.\n",
      "python(72566) MallocStackLogging: can't turn off malloc stack logging because it was not enabled.\n",
      "python(72572) MallocStackLogging: can't turn off malloc stack logging because it was not enabled.\n",
      "python(72580) MallocStackLogging: can't turn off malloc stack logging because it was not enabled.\n",
      "python(72587) MallocStackLogging: can't turn off malloc stack logging because it was not enabled.\n",
      "python(72606) MallocStackLogging: can't turn off malloc stack logging because it was not enabled.\n",
      "python(72615) MallocStackLogging: can't turn off malloc stack logging because it was not enabled.\n",
      "python(72619) MallocStackLogging: can't turn off malloc stack logging because it was not enabled.\n",
      "python(72627) MallocStackLogging: can't turn off malloc stack logging because it was not enabled.\n",
      "python(72638) MallocStackLogging: can't turn off malloc stack logging because it was not enabled.\n",
      "python(72639) MallocStackLogging: can't turn off malloc stack logging because it was not enabled.\n",
      "python(72645) MallocStackLogging: can't turn off malloc stack logging because it was not enabled.\n",
      "python(72650) MallocStackLogging: can't turn off malloc stack logging because it was not enabled.\n",
      "python(72654) MallocStackLogging: can't turn off malloc stack logging because it was not enabled.\n",
      "python(72659) MallocStackLogging: can't turn off malloc stack logging because it was not enabled.\n",
      "python(72662) MallocStackLogging: can't turn off malloc stack logging because it was not enabled.\n",
      "python(72663) MallocStackLogging: can't turn off malloc stack logging because it was not enabled.\n",
      "python(72664) MallocStackLogging: can't turn off malloc stack logging because it was not enabled.\n",
      "python(72665) MallocStackLogging: can't turn off malloc stack logging because it was not enabled.\n",
      "python(72669) MallocStackLogging: can't turn off malloc stack logging because it was not enabled.\n",
      "python(72671) MallocStackLogging: can't turn off malloc stack logging because it was not enabled.\n",
      "python(72678) MallocStackLogging: can't turn off malloc stack logging because it was not enabled.\n",
      "python(72680) MallocStackLogging: can't turn off malloc stack logging because it was not enabled.\n",
      "python(72683) MallocStackLogging: can't turn off malloc stack logging because it was not enabled.\n",
      "python(72684) MallocStackLogging: can't turn off malloc stack logging because it was not enabled.\n",
      "python(72685) MallocStackLogging: can't turn off malloc stack logging because it was not enabled.\n",
      "python(72686) MallocStackLogging: can't turn off malloc stack logging because it was not enabled.\n",
      "python(72693) MallocStackLogging: can't turn off malloc stack logging because it was not enabled.\n",
      "python(72694) MallocStackLogging: can't turn off malloc stack logging because it was not enabled.\n",
      "python(72699) MallocStackLogging: can't turn off malloc stack logging because it was not enabled.\n",
      "python(72712) MallocStackLogging: can't turn off malloc stack logging because it was not enabled.\n",
      "python(72713) MallocStackLogging: can't turn off malloc stack logging because it was not enabled.\n",
      "python(72715) MallocStackLogging: can't turn off malloc stack logging because it was not enabled.\n",
      "python(72721) MallocStackLogging: can't turn off malloc stack logging because it was not enabled.\n",
      "python(72725) MallocStackLogging: can't turn off malloc stack logging because it was not enabled.\n",
      "python(72728) MallocStackLogging: can't turn off malloc stack logging because it was not enabled.\n",
      "python(72729) MallocStackLogging: can't turn off malloc stack logging because it was not enabled.\n",
      "python(72731) MallocStackLogging: can't turn off malloc stack logging because it was not enabled.\n",
      "python(72736) MallocStackLogging: can't turn off malloc stack logging because it was not enabled.\n",
      "python(72748) MallocStackLogging: can't turn off malloc stack logging because it was not enabled.\n",
      "python(72752) MallocStackLogging: can't turn off malloc stack logging because it was not enabled.\n",
      "python(72754) MallocStackLogging: can't turn off malloc stack logging because it was not enabled.\n",
      "python(72757) MallocStackLogging: can't turn off malloc stack logging because it was not enabled.\n",
      "python(72759) MallocStackLogging: can't turn off malloc stack logging because it was not enabled.\n",
      "python(72761) MallocStackLogging: can't turn off malloc stack logging because it was not enabled.\n",
      "python(72766) MallocStackLogging: can't turn off malloc stack logging because it was not enabled.\n",
      "python(72769) MallocStackLogging: can't turn off malloc stack logging because it was not enabled.\n",
      "python(72771) MallocStackLogging: can't turn off malloc stack logging because it was not enabled.\n",
      "python(72772) MallocStackLogging: can't turn off malloc stack logging because it was not enabled.\n",
      "python(72775) MallocStackLogging: can't turn off malloc stack logging because it was not enabled.\n",
      "python(72777) MallocStackLogging: can't turn off malloc stack logging because it was not enabled.\n",
      "python(72782) MallocStackLogging: can't turn off malloc stack logging because it was not enabled.\n",
      "python(72783) MallocStackLogging: can't turn off malloc stack logging because it was not enabled.\n",
      "python(72786) MallocStackLogging: can't turn off malloc stack logging because it was not enabled.\n",
      "python(72787) MallocStackLogging: can't turn off malloc stack logging because it was not enabled.\n",
      "python(72788) MallocStackLogging: can't turn off malloc stack logging because it was not enabled.\n",
      "python(72789) MallocStackLogging: can't turn off malloc stack logging because it was not enabled.\n",
      "python(72792) MallocStackLogging: can't turn off malloc stack logging because it was not enabled.\n",
      "python(72793) MallocStackLogging: can't turn off malloc stack logging because it was not enabled.\n"
     ]
    },
    {
     "name": "stderr",
     "output_type": "stream",
     "text": [
      "python(72797) MallocStackLogging: can't turn off malloc stack logging because it was not enabled.\n",
      "python(72799) MallocStackLogging: can't turn off malloc stack logging because it was not enabled.\n",
      "python(72800) MallocStackLogging: can't turn off malloc stack logging because it was not enabled.\n",
      "python(72801) MallocStackLogging: can't turn off malloc stack logging because it was not enabled.\n",
      "python(72802) MallocStackLogging: can't turn off malloc stack logging because it was not enabled.\n",
      "python(72806) MallocStackLogging: can't turn off malloc stack logging because it was not enabled.\n",
      "python(72810) MallocStackLogging: can't turn off malloc stack logging because it was not enabled.\n",
      "python(72811) MallocStackLogging: can't turn off malloc stack logging because it was not enabled.\n",
      "python(72812) MallocStackLogging: can't turn off malloc stack logging because it was not enabled.\n",
      "python(72813) MallocStackLogging: can't turn off malloc stack logging because it was not enabled.\n",
      "python(72814) MallocStackLogging: can't turn off malloc stack logging because it was not enabled.\n",
      "python(72815) MallocStackLogging: can't turn off malloc stack logging because it was not enabled.\n",
      "python(72817) MallocStackLogging: can't turn off malloc stack logging because it was not enabled.\n",
      "python(72821) MallocStackLogging: can't turn off malloc stack logging because it was not enabled.\n",
      "python(72822) MallocStackLogging: can't turn off malloc stack logging because it was not enabled.\n",
      "python(72824) MallocStackLogging: can't turn off malloc stack logging because it was not enabled.\n",
      "python(72826) MallocStackLogging: can't turn off malloc stack logging because it was not enabled.\n",
      "python(72827) MallocStackLogging: can't turn off malloc stack logging because it was not enabled.\n",
      "python(72832) MallocStackLogging: can't turn off malloc stack logging because it was not enabled.\n",
      "python(72835) MallocStackLogging: can't turn off malloc stack logging because it was not enabled.\n",
      "python(72840) MallocStackLogging: can't turn off malloc stack logging because it was not enabled.\n",
      "python(72843) MallocStackLogging: can't turn off malloc stack logging because it was not enabled.\n",
      "python(72847) MallocStackLogging: can't turn off malloc stack logging because it was not enabled.\n",
      "python(72848) MallocStackLogging: can't turn off malloc stack logging because it was not enabled.\n",
      "python(72852) MallocStackLogging: can't turn off malloc stack logging because it was not enabled.\n",
      "python(72853) MallocStackLogging: can't turn off malloc stack logging because it was not enabled.\n",
      "python(72854) MallocStackLogging: can't turn off malloc stack logging because it was not enabled.\n",
      "python(72857) MallocStackLogging: can't turn off malloc stack logging because it was not enabled.\n",
      "python(72858) MallocStackLogging: can't turn off malloc stack logging because it was not enabled.\n",
      "python(72861) MallocStackLogging: can't turn off malloc stack logging because it was not enabled.\n",
      "python(72867) MallocStackLogging: can't turn off malloc stack logging because it was not enabled.\n",
      "python(72873) MallocStackLogging: can't turn off malloc stack logging because it was not enabled.\n",
      "python(72875) MallocStackLogging: can't turn off malloc stack logging because it was not enabled.\n",
      "python(72876) MallocStackLogging: can't turn off malloc stack logging because it was not enabled.\n",
      "python(72878) MallocStackLogging: can't turn off malloc stack logging because it was not enabled.\n",
      "python(72883) MallocStackLogging: can't turn off malloc stack logging because it was not enabled.\n",
      "python(72885) MallocStackLogging: can't turn off malloc stack logging because it was not enabled.\n",
      "python(72888) MallocStackLogging: can't turn off malloc stack logging because it was not enabled.\n",
      "python(72890) MallocStackLogging: can't turn off malloc stack logging because it was not enabled.\n",
      "python(72894) MallocStackLogging: can't turn off malloc stack logging because it was not enabled.\n",
      "python(72914) MallocStackLogging: can't turn off malloc stack logging because it was not enabled.\n",
      "python(72916) MallocStackLogging: can't turn off malloc stack logging because it was not enabled.\n",
      "python(72920) MallocStackLogging: can't turn off malloc stack logging because it was not enabled.\n",
      "python(72921) MallocStackLogging: can't turn off malloc stack logging because it was not enabled.\n",
      "python(72924) MallocStackLogging: can't turn off malloc stack logging because it was not enabled.\n",
      "python(72926) MallocStackLogging: can't turn off malloc stack logging because it was not enabled.\n",
      "python(72930) MallocStackLogging: can't turn off malloc stack logging because it was not enabled.\n",
      "python(72935) MallocStackLogging: can't turn off malloc stack logging because it was not enabled.\n",
      "python(72941) MallocStackLogging: can't turn off malloc stack logging because it was not enabled.\n",
      "python(72949) MallocStackLogging: can't turn off malloc stack logging because it was not enabled.\n",
      "python(72957) MallocStackLogging: can't turn off malloc stack logging because it was not enabled.\n",
      "python(72964) MallocStackLogging: can't turn off malloc stack logging because it was not enabled.\n",
      "python(72970) MallocStackLogging: can't turn off malloc stack logging because it was not enabled.\n",
      "python(72983) MallocStackLogging: can't turn off malloc stack logging because it was not enabled.\n",
      "python(72986) MallocStackLogging: can't turn off malloc stack logging because it was not enabled.\n",
      "python(72987) MallocStackLogging: can't turn off malloc stack logging because it was not enabled.\n",
      "python(72990) MallocStackLogging: can't turn off malloc stack logging because it was not enabled.\n",
      "python(72991) MallocStackLogging: can't turn off malloc stack logging because it was not enabled.\n",
      "python(72993) MallocStackLogging: can't turn off malloc stack logging because it was not enabled.\n",
      "python(72995) MallocStackLogging: can't turn off malloc stack logging because it was not enabled.\n",
      "python(72998) MallocStackLogging: can't turn off malloc stack logging because it was not enabled.\n",
      "python(72999) MallocStackLogging: can't turn off malloc stack logging because it was not enabled.\n",
      "python(73001) MallocStackLogging: can't turn off malloc stack logging because it was not enabled.\n",
      "python(73002) MallocStackLogging: can't turn off malloc stack logging because it was not enabled.\n",
      "python(73004) MallocStackLogging: can't turn off malloc stack logging because it was not enabled.\n",
      "python(73009) MallocStackLogging: can't turn off malloc stack logging because it was not enabled.\n",
      "python(73014) MallocStackLogging: can't turn off malloc stack logging because it was not enabled.\n",
      "python(73019) MallocStackLogging: can't turn off malloc stack logging because it was not enabled.\n",
      "python(73020) MallocStackLogging: can't turn off malloc stack logging because it was not enabled.\n",
      "python(73021) MallocStackLogging: can't turn off malloc stack logging because it was not enabled.\n",
      "python(73023) MallocStackLogging: can't turn off malloc stack logging because it was not enabled.\n",
      "python(73024) MallocStackLogging: can't turn off malloc stack logging because it was not enabled.\n",
      "python(73028) MallocStackLogging: can't turn off malloc stack logging because it was not enabled.\n",
      "python(73029) MallocStackLogging: can't turn off malloc stack logging because it was not enabled.\n",
      "python(73031) MallocStackLogging: can't turn off malloc stack logging because it was not enabled.\n",
      "python(73032) MallocStackLogging: can't turn off malloc stack logging because it was not enabled.\n",
      "python(73039) MallocStackLogging: can't turn off malloc stack logging because it was not enabled.\n",
      "python(73047) MallocStackLogging: can't turn off malloc stack logging because it was not enabled.\n",
      "python(73050) MallocStackLogging: can't turn off malloc stack logging because it was not enabled.\n",
      "python(73054) MallocStackLogging: can't turn off malloc stack logging because it was not enabled.\n",
      "python(73056) MallocStackLogging: can't turn off malloc stack logging because it was not enabled.\n",
      "python(73061) MallocStackLogging: can't turn off malloc stack logging because it was not enabled.\n",
      "python(73062) MallocStackLogging: can't turn off malloc stack logging because it was not enabled.\n",
      "python(73064) MallocStackLogging: can't turn off malloc stack logging because it was not enabled.\n"
     ]
    },
    {
     "name": "stderr",
     "output_type": "stream",
     "text": [
      "python(73067) MallocStackLogging: can't turn off malloc stack logging because it was not enabled.\n",
      "python(73069) MallocStackLogging: can't turn off malloc stack logging because it was not enabled.\n",
      "python(73071) MallocStackLogging: can't turn off malloc stack logging because it was not enabled.\n",
      "python(73073) MallocStackLogging: can't turn off malloc stack logging because it was not enabled.\n",
      "python(73076) MallocStackLogging: can't turn off malloc stack logging because it was not enabled.\n",
      "python(73082) MallocStackLogging: can't turn off malloc stack logging because it was not enabled.\n",
      "python(73089) MallocStackLogging: can't turn off malloc stack logging because it was not enabled.\n",
      "python(73093) MallocStackLogging: can't turn off malloc stack logging because it was not enabled.\n",
      "python(73096) MallocStackLogging: can't turn off malloc stack logging because it was not enabled.\n",
      "python(73097) MallocStackLogging: can't turn off malloc stack logging because it was not enabled.\n"
     ]
    },
    {
     "data": {
      "application/vnd.jupyter.widget-view+json": {
       "model_id": "",
       "version_major": 2,
       "version_minor": 0
      },
      "text/plain": [
       "Validation: |                                             | 0/? [00:00<?, ?it/s]"
      ]
     },
     "metadata": {},
     "output_type": "display_data"
    },
    {
     "name": "stderr",
     "output_type": "stream",
     "text": [
      "python(73098) MallocStackLogging: can't turn off malloc stack logging because it was not enabled.\n",
      "python(73100) MallocStackLogging: can't turn off malloc stack logging because it was not enabled.\n",
      "python(73104) MallocStackLogging: can't turn off malloc stack logging because it was not enabled.\n",
      "python(73106) MallocStackLogging: can't turn off malloc stack logging because it was not enabled.\n",
      "python(73107) MallocStackLogging: can't turn off malloc stack logging because it was not enabled.\n",
      "python(73109) MallocStackLogging: can't turn off malloc stack logging because it was not enabled.\n",
      "python(73111) MallocStackLogging: can't turn off malloc stack logging because it was not enabled.\n",
      "python(73115) MallocStackLogging: can't turn off malloc stack logging because it was not enabled.\n",
      "python(73117) MallocStackLogging: can't turn off malloc stack logging because it was not enabled.\n",
      "python(73122) MallocStackLogging: can't turn off malloc stack logging because it was not enabled.\n",
      "python(73123) MallocStackLogging: can't turn off malloc stack logging because it was not enabled.\n",
      "python(73131) MallocStackLogging: can't turn off malloc stack logging because it was not enabled.\n",
      "python(73133) MallocStackLogging: can't turn off malloc stack logging because it was not enabled.\n",
      "`Trainer.fit` stopped: `max_epochs=1` reached.\n",
      "[I 2024-04-28 19:52:20,072] Trial 0 finished with value: 0.20268738269805908 and parameters: {'backbone': 'EfficientNet', 'learning_rate': 0.00021160248990951245}. Best is trial 0 with value: 0.20268738269805908.\n",
      "GPU available: True (mps), used: True\n",
      "TPU available: False, using: 0 TPU cores\n",
      "IPU available: False, using: 0 IPUs\n",
      "HPU available: False, using: 0 HPUs\n",
      "\n",
      "  | Name      | Type             | Params\n",
      "-----------------------------------------------\n",
      "0 | model     | EfficientNet     | 4.0 M \n",
      "1 | criterion | CrossEntropyLoss | 0     \n",
      "-----------------------------------------------\n",
      "4.0 M     Trainable params\n",
      "0         Non-trainable params\n",
      "4.0 M     Total params\n",
      "16.061    Total estimated model params size (MB)\n"
     ]
    },
    {
     "name": "stdout",
     "output_type": "stream",
     "text": [
      "Loaded pretrained weights for efficientnet-b0\n"
     ]
    },
    {
     "data": {
      "application/vnd.jupyter.widget-view+json": {
       "model_id": "",
       "version_major": 2,
       "version_minor": 0
      },
      "text/plain": [
       "Sanity Checking: |                                        | 0/? [00:00<?, ?it/s]"
      ]
     },
     "metadata": {},
     "output_type": "display_data"
    },
    {
     "name": "stderr",
     "output_type": "stream",
     "text": [
      "python(73134) MallocStackLogging: can't turn off malloc stack logging because it was not enabled.\n",
      "python(73139) MallocStackLogging: can't turn off malloc stack logging because it was not enabled.\n",
      "python(73141) MallocStackLogging: can't turn off malloc stack logging because it was not enabled.\n"
     ]
    },
    {
     "data": {
      "application/vnd.jupyter.widget-view+json": {
       "model_id": "ec5e531779584028a6a745642fd4bf95",
       "version_major": 2,
       "version_minor": 0
      },
      "text/plain": [
       "Training: |                                               | 0/? [00:00<?, ?it/s]"
      ]
     },
     "metadata": {},
     "output_type": "display_data"
    },
    {
     "name": "stderr",
     "output_type": "stream",
     "text": [
      "python(73145) MallocStackLogging: can't turn off malloc stack logging because it was not enabled.\n",
      "python(73147) MallocStackLogging: can't turn off malloc stack logging because it was not enabled.\n",
      "python(73148) MallocStackLogging: can't turn off malloc stack logging because it was not enabled.\n",
      "python(73149) MallocStackLogging: can't turn off malloc stack logging because it was not enabled.\n",
      "python(73150) MallocStackLogging: can't turn off malloc stack logging because it was not enabled.\n",
      "python(73155) MallocStackLogging: can't turn off malloc stack logging because it was not enabled.\n",
      "python(73156) MallocStackLogging: can't turn off malloc stack logging because it was not enabled.\n",
      "python(73157) MallocStackLogging: can't turn off malloc stack logging because it was not enabled.\n",
      "python(73164) MallocStackLogging: can't turn off malloc stack logging because it was not enabled.\n",
      "python(73168) MallocStackLogging: can't turn off malloc stack logging because it was not enabled.\n",
      "python(73170) MallocStackLogging: can't turn off malloc stack logging because it was not enabled.\n",
      "python(73174) MallocStackLogging: can't turn off malloc stack logging because it was not enabled.\n",
      "python(73176) MallocStackLogging: can't turn off malloc stack logging because it was not enabled.\n",
      "python(73184) MallocStackLogging: can't turn off malloc stack logging because it was not enabled.\n",
      "python(73186) MallocStackLogging: can't turn off malloc stack logging because it was not enabled.\n",
      "python(73193) MallocStackLogging: can't turn off malloc stack logging because it was not enabled.\n",
      "python(73199) MallocStackLogging: can't turn off malloc stack logging because it was not enabled.\n",
      "python(73207) MallocStackLogging: can't turn off malloc stack logging because it was not enabled.\n",
      "python(73209) MallocStackLogging: can't turn off malloc stack logging because it was not enabled.\n",
      "python(73210) MallocStackLogging: can't turn off malloc stack logging because it was not enabled.\n",
      "python(73215) MallocStackLogging: can't turn off malloc stack logging because it was not enabled.\n",
      "python(73216) MallocStackLogging: can't turn off malloc stack logging because it was not enabled.\n",
      "python(73220) MallocStackLogging: can't turn off malloc stack logging because it was not enabled.\n",
      "python(73224) MallocStackLogging: can't turn off malloc stack logging because it was not enabled.\n",
      "python(73226) MallocStackLogging: can't turn off malloc stack logging because it was not enabled.\n",
      "python(73231) MallocStackLogging: can't turn off malloc stack logging because it was not enabled.\n",
      "python(73232) MallocStackLogging: can't turn off malloc stack logging because it was not enabled.\n",
      "python(73234) MallocStackLogging: can't turn off malloc stack logging because it was not enabled.\n",
      "python(73238) MallocStackLogging: can't turn off malloc stack logging because it was not enabled.\n",
      "python(73243) MallocStackLogging: can't turn off malloc stack logging because it was not enabled.\n",
      "python(73247) MallocStackLogging: can't turn off malloc stack logging because it was not enabled.\n",
      "python(73250) MallocStackLogging: can't turn off malloc stack logging because it was not enabled.\n",
      "python(73252) MallocStackLogging: can't turn off malloc stack logging because it was not enabled.\n",
      "python(73254) MallocStackLogging: can't turn off malloc stack logging because it was not enabled.\n",
      "python(73259) MallocStackLogging: can't turn off malloc stack logging because it was not enabled.\n",
      "python(73264) MallocStackLogging: can't turn off malloc stack logging because it was not enabled.\n",
      "python(73269) MallocStackLogging: can't turn off malloc stack logging because it was not enabled.\n",
      "python(73288) MallocStackLogging: can't turn off malloc stack logging because it was not enabled.\n",
      "python(73297) MallocStackLogging: can't turn off malloc stack logging because it was not enabled.\n",
      "python(73298) MallocStackLogging: can't turn off malloc stack logging because it was not enabled.\n",
      "python(73299) MallocStackLogging: can't turn off malloc stack logging because it was not enabled.\n",
      "python(73301) MallocStackLogging: can't turn off malloc stack logging because it was not enabled.\n",
      "python(73306) MallocStackLogging: can't turn off malloc stack logging because it was not enabled.\n",
      "python(73309) MallocStackLogging: can't turn off malloc stack logging because it was not enabled.\n",
      "python(73312) MallocStackLogging: can't turn off malloc stack logging because it was not enabled.\n",
      "python(73317) MallocStackLogging: can't turn off malloc stack logging because it was not enabled.\n",
      "python(73323) MallocStackLogging: can't turn off malloc stack logging because it was not enabled.\n",
      "python(73327) MallocStackLogging: can't turn off malloc stack logging because it was not enabled.\n",
      "python(73334) MallocStackLogging: can't turn off malloc stack logging because it was not enabled.\n",
      "python(73337) MallocStackLogging: can't turn off malloc stack logging because it was not enabled.\n",
      "python(73341) MallocStackLogging: can't turn off malloc stack logging because it was not enabled.\n",
      "python(73344) MallocStackLogging: can't turn off malloc stack logging because it was not enabled.\n",
      "python(73345) MallocStackLogging: can't turn off malloc stack logging because it was not enabled.\n",
      "python(73346) MallocStackLogging: can't turn off malloc stack logging because it was not enabled.\n",
      "python(73350) MallocStackLogging: can't turn off malloc stack logging because it was not enabled.\n",
      "python(73355) MallocStackLogging: can't turn off malloc stack logging because it was not enabled.\n",
      "python(73357) MallocStackLogging: can't turn off malloc stack logging because it was not enabled.\n",
      "python(73360) MallocStackLogging: can't turn off malloc stack logging because it was not enabled.\n",
      "python(73363) MallocStackLogging: can't turn off malloc stack logging because it was not enabled.\n",
      "python(73366) MallocStackLogging: can't turn off malloc stack logging because it was not enabled.\n",
      "python(73367) MallocStackLogging: can't turn off malloc stack logging because it was not enabled.\n",
      "python(73368) MallocStackLogging: can't turn off malloc stack logging because it was not enabled.\n",
      "python(73371) MallocStackLogging: can't turn off malloc stack logging because it was not enabled.\n",
      "python(73376) MallocStackLogging: can't turn off malloc stack logging because it was not enabled.\n",
      "python(73377) MallocStackLogging: can't turn off malloc stack logging because it was not enabled.\n",
      "python(73379) MallocStackLogging: can't turn off malloc stack logging because it was not enabled.\n",
      "python(73381) MallocStackLogging: can't turn off malloc stack logging because it was not enabled.\n",
      "python(73383) MallocStackLogging: can't turn off malloc stack logging because it was not enabled.\n",
      "python(73385) MallocStackLogging: can't turn off malloc stack logging because it was not enabled.\n",
      "python(73387) MallocStackLogging: can't turn off malloc stack logging because it was not enabled.\n",
      "python(73388) MallocStackLogging: can't turn off malloc stack logging because it was not enabled.\n",
      "python(73392) MallocStackLogging: can't turn off malloc stack logging because it was not enabled.\n",
      "python(73395) MallocStackLogging: can't turn off malloc stack logging because it was not enabled.\n",
      "python(73396) MallocStackLogging: can't turn off malloc stack logging because it was not enabled.\n",
      "python(73397) MallocStackLogging: can't turn off malloc stack logging because it was not enabled.\n",
      "python(73398) MallocStackLogging: can't turn off malloc stack logging because it was not enabled.\n",
      "python(73400) MallocStackLogging: can't turn off malloc stack logging because it was not enabled.\n",
      "python(73404) MallocStackLogging: can't turn off malloc stack logging because it was not enabled.\n",
      "python(73409) MallocStackLogging: can't turn off malloc stack logging because it was not enabled.\n",
      "python(73413) MallocStackLogging: can't turn off malloc stack logging because it was not enabled.\n",
      "python(73415) MallocStackLogging: can't turn off malloc stack logging because it was not enabled.\n",
      "python(73417) MallocStackLogging: can't turn off malloc stack logging because it was not enabled.\n",
      "python(73419) MallocStackLogging: can't turn off malloc stack logging because it was not enabled.\n",
      "python(73421) MallocStackLogging: can't turn off malloc stack logging because it was not enabled.\n"
     ]
    },
    {
     "name": "stderr",
     "output_type": "stream",
     "text": [
      "python(73423) MallocStackLogging: can't turn off malloc stack logging because it was not enabled.\n",
      "python(73427) MallocStackLogging: can't turn off malloc stack logging because it was not enabled.\n",
      "python(73433) MallocStackLogging: can't turn off malloc stack logging because it was not enabled.\n",
      "python(73435) MallocStackLogging: can't turn off malloc stack logging because it was not enabled.\n",
      "python(73439) MallocStackLogging: can't turn off malloc stack logging because it was not enabled.\n",
      "python(73453) MallocStackLogging: can't turn off malloc stack logging because it was not enabled.\n",
      "python(73463) MallocStackLogging: can't turn off malloc stack logging because it was not enabled.\n",
      "python(73465) MallocStackLogging: can't turn off malloc stack logging because it was not enabled.\n",
      "python(73467) MallocStackLogging: can't turn off malloc stack logging because it was not enabled.\n",
      "python(73468) MallocStackLogging: can't turn off malloc stack logging because it was not enabled.\n",
      "python(73470) MallocStackLogging: can't turn off malloc stack logging because it was not enabled.\n",
      "python(73474) MallocStackLogging: can't turn off malloc stack logging because it was not enabled.\n",
      "python(73475) MallocStackLogging: can't turn off malloc stack logging because it was not enabled.\n",
      "python(73477) MallocStackLogging: can't turn off malloc stack logging because it was not enabled.\n",
      "python(73484) MallocStackLogging: can't turn off malloc stack logging because it was not enabled.\n",
      "python(73486) MallocStackLogging: can't turn off malloc stack logging because it was not enabled.\n",
      "python(73489) MallocStackLogging: can't turn off malloc stack logging because it was not enabled.\n",
      "python(73494) MallocStackLogging: can't turn off malloc stack logging because it was not enabled.\n",
      "python(73503) MallocStackLogging: can't turn off malloc stack logging because it was not enabled.\n",
      "python(73504) MallocStackLogging: can't turn off malloc stack logging because it was not enabled.\n",
      "python(73506) MallocStackLogging: can't turn off malloc stack logging because it was not enabled.\n",
      "python(73510) MallocStackLogging: can't turn off malloc stack logging because it was not enabled.\n",
      "python(73513) MallocStackLogging: can't turn off malloc stack logging because it was not enabled.\n",
      "python(73514) MallocStackLogging: can't turn off malloc stack logging because it was not enabled.\n",
      "python(73516) MallocStackLogging: can't turn off malloc stack logging because it was not enabled.\n",
      "python(73519) MallocStackLogging: can't turn off malloc stack logging because it was not enabled.\n",
      "python(73520) MallocStackLogging: can't turn off malloc stack logging because it was not enabled.\n",
      "python(73524) MallocStackLogging: can't turn off malloc stack logging because it was not enabled.\n",
      "python(73525) MallocStackLogging: can't turn off malloc stack logging because it was not enabled.\n",
      "python(73529) MallocStackLogging: can't turn off malloc stack logging because it was not enabled.\n",
      "python(73532) MallocStackLogging: can't turn off malloc stack logging because it was not enabled.\n",
      "python(73533) MallocStackLogging: can't turn off malloc stack logging because it was not enabled.\n",
      "python(73535) MallocStackLogging: can't turn off malloc stack logging because it was not enabled.\n",
      "python(73536) MallocStackLogging: can't turn off malloc stack logging because it was not enabled.\n",
      "python(73537) MallocStackLogging: can't turn off malloc stack logging because it was not enabled.\n",
      "python(73539) MallocStackLogging: can't turn off malloc stack logging because it was not enabled.\n",
      "python(73544) MallocStackLogging: can't turn off malloc stack logging because it was not enabled.\n",
      "python(73545) MallocStackLogging: can't turn off malloc stack logging because it was not enabled.\n",
      "python(73546) MallocStackLogging: can't turn off malloc stack logging because it was not enabled.\n",
      "python(73549) MallocStackLogging: can't turn off malloc stack logging because it was not enabled.\n",
      "python(73552) MallocStackLogging: can't turn off malloc stack logging because it was not enabled.\n",
      "python(73553) MallocStackLogging: can't turn off malloc stack logging because it was not enabled.\n",
      "python(73554) MallocStackLogging: can't turn off malloc stack logging because it was not enabled.\n",
      "python(73555) MallocStackLogging: can't turn off malloc stack logging because it was not enabled.\n",
      "python(73557) MallocStackLogging: can't turn off malloc stack logging because it was not enabled.\n",
      "python(73561) MallocStackLogging: can't turn off malloc stack logging because it was not enabled.\n",
      "python(73563) MallocStackLogging: can't turn off malloc stack logging because it was not enabled.\n",
      "python(73565) MallocStackLogging: can't turn off malloc stack logging because it was not enabled.\n",
      "python(73567) MallocStackLogging: can't turn off malloc stack logging because it was not enabled.\n",
      "python(73568) MallocStackLogging: can't turn off malloc stack logging because it was not enabled.\n",
      "python(73572) MallocStackLogging: can't turn off malloc stack logging because it was not enabled.\n",
      "python(73573) MallocStackLogging: can't turn off malloc stack logging because it was not enabled.\n",
      "python(73575) MallocStackLogging: can't turn off malloc stack logging because it was not enabled.\n",
      "python(73576) MallocStackLogging: can't turn off malloc stack logging because it was not enabled.\n",
      "python(73578) MallocStackLogging: can't turn off malloc stack logging because it was not enabled.\n",
      "python(73582) MallocStackLogging: can't turn off malloc stack logging because it was not enabled.\n",
      "python(73587) MallocStackLogging: can't turn off malloc stack logging because it was not enabled.\n",
      "python(73593) MallocStackLogging: can't turn off malloc stack logging because it was not enabled.\n",
      "python(73594) MallocStackLogging: can't turn off malloc stack logging because it was not enabled.\n",
      "python(73602) MallocStackLogging: can't turn off malloc stack logging because it was not enabled.\n",
      "python(73603) MallocStackLogging: can't turn off malloc stack logging because it was not enabled.\n",
      "python(73608) MallocStackLogging: can't turn off malloc stack logging because it was not enabled.\n",
      "python(73619) MallocStackLogging: can't turn off malloc stack logging because it was not enabled.\n",
      "python(73627) MallocStackLogging: can't turn off malloc stack logging because it was not enabled.\n",
      "python(73642) MallocStackLogging: can't turn off malloc stack logging because it was not enabled.\n",
      "python(73648) MallocStackLogging: can't turn off malloc stack logging because it was not enabled.\n",
      "python(73652) MallocStackLogging: can't turn off malloc stack logging because it was not enabled.\n",
      "python(73656) MallocStackLogging: can't turn off malloc stack logging because it was not enabled.\n",
      "python(73659) MallocStackLogging: can't turn off malloc stack logging because it was not enabled.\n",
      "python(73664) MallocStackLogging: can't turn off malloc stack logging because it was not enabled.\n",
      "python(73670) MallocStackLogging: can't turn off malloc stack logging because it was not enabled.\n",
      "python(73674) MallocStackLogging: can't turn off malloc stack logging because it was not enabled.\n",
      "python(73680) MallocStackLogging: can't turn off malloc stack logging because it was not enabled.\n",
      "python(73681) MallocStackLogging: can't turn off malloc stack logging because it was not enabled.\n",
      "python(73684) MallocStackLogging: can't turn off malloc stack logging because it was not enabled.\n",
      "python(73688) MallocStackLogging: can't turn off malloc stack logging because it was not enabled.\n",
      "python(73690) MallocStackLogging: can't turn off malloc stack logging because it was not enabled.\n",
      "python(73694) MallocStackLogging: can't turn off malloc stack logging because it was not enabled.\n"
     ]
    },
    {
     "data": {
      "application/vnd.jupyter.widget-view+json": {
       "model_id": "",
       "version_major": 2,
       "version_minor": 0
      },
      "text/plain": [
       "Validation: |                                             | 0/? [00:00<?, ?it/s]"
      ]
     },
     "metadata": {},
     "output_type": "display_data"
    },
    {
     "name": "stderr",
     "output_type": "stream",
     "text": [
      "python(73695) MallocStackLogging: can't turn off malloc stack logging because it was not enabled.\n",
      "python(73697) MallocStackLogging: can't turn off malloc stack logging because it was not enabled.\n",
      "python(73698) MallocStackLogging: can't turn off malloc stack logging because it was not enabled.\n",
      "python(73701) MallocStackLogging: can't turn off malloc stack logging because it was not enabled.\n",
      "python(73705) MallocStackLogging: can't turn off malloc stack logging because it was not enabled.\n",
      "python(73706) MallocStackLogging: can't turn off malloc stack logging because it was not enabled.\n",
      "python(73708) MallocStackLogging: can't turn off malloc stack logging because it was not enabled.\n",
      "python(73709) MallocStackLogging: can't turn off malloc stack logging because it was not enabled.\n",
      "python(73716) MallocStackLogging: can't turn off malloc stack logging because it was not enabled.\n",
      "`Trainer.fit` stopped: `max_epochs=1` reached.\n",
      "/Users/maryamsoftdev/anaconda3/lib/python3.11/site-packages/pytorch_lightning/trainer/connectors/data_connector.py:441: The 'test_dataloader' does not have many workers which may be a bottleneck. Consider increasing the value of the `num_workers` argument` to `num_workers=7` in the `DataLoader` to improve performance.\n"
     ]
    },
    {
     "data": {
      "application/vnd.jupyter.widget-view+json": {
       "model_id": "3b3896023015459dad26924ec3bd2b6b",
       "version_major": 2,
       "version_minor": 0
      },
      "text/plain": [
       "Testing: |                                                | 0/? [00:00<?, ?it/s]"
      ]
     },
     "metadata": {},
     "output_type": "display_data"
    },
    {
     "name": "stderr",
     "output_type": "stream",
     "text": [
      "python(73723) MallocStackLogging: can't turn off malloc stack logging because it was not enabled.\n",
      "python(73728) MallocStackLogging: can't turn off malloc stack logging because it was not enabled.\n",
      "python(73731) MallocStackLogging: can't turn off malloc stack logging because it was not enabled.\n",
      "python(73734) MallocStackLogging: can't turn off malloc stack logging because it was not enabled.\n",
      "python(73738) MallocStackLogging: can't turn off malloc stack logging because it was not enabled.\n",
      "python(73741) MallocStackLogging: can't turn off malloc stack logging because it was not enabled.\n",
      "python(73744) MallocStackLogging: can't turn off malloc stack logging because it was not enabled.\n",
      "python(73748) MallocStackLogging: can't turn off malloc stack logging because it was not enabled.\n"
     ]
    },
    {
     "name": "stdout",
     "output_type": "stream",
     "text": [
      "────────────────────────────────────────────────────────────────────────────────────────────────────────────────────────\n",
      "       Test metric             DataLoader 0\n",
      "────────────────────────────────────────────────────────────────────────────────────────────────────────────────────────\n",
      "        test_loss           0.2132299393415451\n",
      "────────────────────────────────────────────────────────────────────────────────────────────────────────────────────────\n"
     ]
    },
    {
     "name": "stderr",
     "output_type": "stream",
     "text": [
      "python(73754) MallocStackLogging: can't turn off malloc stack logging because it was not enabled.\n"
     ]
    },
    {
     "data": {
      "text/plain": [
       "[{'test_loss': 0.2132299393415451}]"
      ]
     },
     "execution_count": 30,
     "metadata": {},
     "output_type": "execute_result"
    }
   ],
   "source": [
    "# Optuna hyperparameter optimization\n",
    "study = optuna.create_study(direction='minimize')\n",
    "study.optimize(objective, n_trials=1)\n",
    "\n",
    "# Get best hyperparameters\n",
    "best_params = study.best_params\n",
    "best_backbone = best_params['backbone']\n",
    "best_learning_rate = best_params['learning_rate']\n",
    "\n",
    "# Train model with best hyperparameters\n",
    "best_model = ImageClassificationModel(backbone=best_backbone, learning_rate=best_learning_rate)\n",
    "trainer = pl.Trainer(max_epochs=1)  # Change max_epochs to 1\n",
    "trainer.fit(best_model, train_loader, test_loader)\n",
    "\n",
    "# Evaluate on test set\n",
    "trainer.test(best_model, test_loader)"
   ]
  },
  {
   "cell_type": "code",
   "execution_count": null,
   "id": "11053712",
   "metadata": {},
   "outputs": [],
   "source": []
  }
 ],
 "metadata": {
  "kernelspec": {
   "display_name": "Python 3 (ipykernel)",
   "language": "python",
   "name": "python3"
  },
  "language_info": {
   "codemirror_mode": {
    "name": "ipython",
    "version": 3
   },
   "file_extension": ".py",
   "mimetype": "text/x-python",
   "name": "python",
   "nbconvert_exporter": "python",
   "pygments_lexer": "ipython3",
   "version": "3.11.5"
  }
 },
 "nbformat": 4,
 "nbformat_minor": 5
}
