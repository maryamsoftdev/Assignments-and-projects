{
 "cells": [
  {
   "cell_type": "markdown",
   "id": "08756561",
   "metadata": {
    "id": "08756561"
   },
   "source": [
    "## Name: Nabeelah Maryam\n",
    "## Roll No.: 23i-8201\n",
    "## Applied Computer vision\n",
    "## Assignment No 1"
   ]
  },
  {
   "cell_type": "markdown",
   "id": "bd5ab0fe",
   "metadata": {
    "id": "bd5ab0fe"
   },
   "source": [
    "# All Imports"
   ]
  },
  {
   "cell_type": "code",
   "execution_count": 11,
   "id": "d98f98ff",
   "metadata": {
    "id": "d98f98ff"
   },
   "outputs": [],
   "source": [
    "import numpy as np\n",
    "import matplotlib.pyplot as plt\n",
    "import matplotlib.pyplot as plt\n",
    "import matplotlib.ticker as ticker"
   ]
  },
  {
   "cell_type": "code",
   "execution_count": 12,
   "id": "5587156c",
   "metadata": {
    "id": "5587156c"
   },
   "outputs": [],
   "source": [
    "np.set_printoptions(suppress=True)\n",
    "def create_rotation_matrix(yaw, pitch, roll):\n",
    "    # Convert angles to radians\n",
    "    yaw = np.radians(yaw)\n",
    "    pitch = np.radians(pitch)\n",
    "    roll = np.radians(roll)\n",
    "    # Yaw matrix around Y axis\n",
    "    R_yaw = np.array([\n",
    "        [np.cos(yaw), 0, np.sin(yaw)],\n",
    "        [0, 1, 0],\n",
    "        [-np.sin(yaw), 0, np.cos(yaw)]\n",
    "    ])\n",
    "    # Pitch matrix around X axis\n",
    "    R_pitch = np.array([\n",
    "        [1, 0, 0],\n",
    "        [0, np.cos(pitch), -np.sin(pitch)],\n",
    "        [0, np.sin(pitch), np.cos(pitch)]\n",
    "    ])\n",
    "\n",
    "    # Roll matrix around Z axis\n",
    "    R_roll = np.array([\n",
    "        [np.cos(roll), -np.sin(roll), 0],\n",
    "        [np.sin(roll), np.cos(roll), 0],\n",
    "        [0, 0, 1]\n",
    "    ])\n",
    "    # Combine the matrices by multiplying them\n",
    "    R_combined = R_roll.dot(R_pitch).dot(R_yaw)\n",
    "    return R_combined\n",
    "\n",
    "\n",
    "def createGTCameraParameters(focal_length_x,focal_length_y,principal_point_x,principal_point_y,R,camera_translation_vector_from_world_origin):\n",
    "\n",
    "    #construction of a 4 by 4 Mext\n",
    "    extrinsic_matrix = np.eye(4) #4 by 4\n",
    "    extrinsic_matrix[:3, :3] = R  # Transpose of the rotation matrix\n",
    "    extrinsic_matrix[:3, 3] = -R @ camera_translation_vector_from_world_origin  # Translation in camera coordinates\n",
    "\n",
    "    # Intrinsic matrix (3 by 4)\n",
    "    K = np.array([[focal_length_x, 0, principal_point_x,0],\n",
    "                [0, focal_length_y, principal_point_y,0],\n",
    "                [0, 0, 1,0]])\n",
    "\n",
    "    # Camera projection matrix P (3 by 4)\n",
    "    P = np.dot(K, extrinsic_matrix)\n",
    "\n",
    "    print(\"Intrinsic Matrix (K):\")\n",
    "    print(K)\n",
    "    print(\"\\nExtrinsic Matrix [R|t]:\")\n",
    "    print(extrinsic_matrix)\n",
    "    print(\"\\nCamera Projection Matrix (P):\")\n",
    "    print(P)\n",
    "\n",
    "    return P,extrinsic_matrix,K\n",
    "\n",
    "# Function to project 3D points to 2D image coordinates\n",
    "def project_world_to_camera(points_3d, P):\n",
    "    # Add homogeneous coordinate (1) to the 3D points\n",
    "    points_3d_homogeneous = np.column_stack((points_3d, np.ones((points_3d.shape[0], 1))))\n",
    "\n",
    "    # Project 3D points to 2D image coordinates\n",
    "    points_2d_homogeneous = np.dot(P, points_3d_homogeneous.T).T\n",
    "\n",
    "    # Normalize homogeneous coordinates\n",
    "    points_2d_normalized = points_2d_homogeneous[:, :2] / points_2d_homogeneous[:, 2:]\n",
    "\n",
    "    # Check if points are within image boundaries\n",
    "    points_inside_frame = np.logical_and.reduce((points_2d_normalized[:, 0] >= 0,\n",
    "                                              points_2d_normalized[:, 0] <= 640,  # Adjust for image width\n",
    "                                              points_2d_normalized[:, 1] >= 0,\n",
    "                                              points_2d_normalized[:, 1] <= 480))  # Adjust for image height\n",
    "\n",
    "    return points_2d_normalized,points_inside_frame\n",
    "\n",
    "\n",
    "def plotWorldPoints(ax,points,rotation_matrix,camera_origin):\n",
    "\n",
    "    num_points = len(points)\n",
    "    # Plot the random points with numbers\n",
    "    for i in range(num_points,):\n",
    "        ax.text(points[i, 0], points[i, 1], points[i, 2], str(i+1), color='black', fontsize=8, ha='right', va='bottom')\n",
    "        ax.scatter(points[i, 0], points[i, 1], points[i, 2], c=[colors[i]], marker='o', s=50)\n",
    "\n",
    "    # Plot a red cross at the origin\n",
    "    ax.plot([0], [0], [0], marker='x', markersize=10, color='red')\n",
    "\n",
    "\n",
    "     # Plot world coordinate axes\n",
    "    world_axes_length = 1.0\n",
    "    world_x_axis = np.array([world_axes_length, 0, 0])\n",
    "    world_y_axis = np.array([0, world_axes_length, 0])\n",
    "    world_z_axis = np.array([0, 0, 3])\n",
    "\n",
    "    ax.plot([0, world_x_axis[0]], [0, world_x_axis[1]], [0, world_x_axis[2]], color='green')\n",
    "    ax.plot([0, world_y_axis[0]], [0, world_y_axis[1]], [0, world_y_axis[2]], color='orange')\n",
    "    ax.plot([0, world_z_axis[0]], [0, world_z_axis[1]], [0, world_z_axis[2]], color='purple')\n",
    "\n",
    "    # Add labels 'X', 'Y', and 'Z' at the top of each world axis line\n",
    "    ax.text(world_x_axis[0], world_x_axis[1], world_x_axis[2], 'X', color='green', fontsize=8, ha='left', va='bottom')\n",
    "    ax.text(world_y_axis[0], world_y_axis[1], world_y_axis[2], 'Y', color='orange', fontsize=8, ha='left', va='bottom')\n",
    "    ax.text(world_z_axis[0], world_z_axis[1], world_z_axis[2], 'Z', color='purple', fontsize=8, ha='left', va='bottom')\n",
    "\n",
    "\n",
    "    # Plot a green cross at the camera origin\n",
    "\n",
    "    ax.plot([camera_origin[0]], [camera_origin[1]], [camera_origin[2]], marker='x', markersize=10, color='green')\n",
    "\n",
    "    # Plot camera coordinate axes\n",
    "    camera_axes_length = 1.0\n",
    "    camera_x_axis = rotation_matrix[:, 0] * camera_axes_length + camera_origin\n",
    "    camera_y_axis = rotation_matrix[:, 1] * camera_axes_length + camera_origin\n",
    "    camera_z_axis = rotation_matrix[:, 2] * 3 + camera_origin\n",
    "\n",
    "    ax.plot([camera_origin[0], camera_x_axis[0]], [camera_origin[1], camera_x_axis[1]], [camera_origin[2], camera_x_axis[2]], color='blue')\n",
    "    ax.plot([camera_origin[0], camera_y_axis[0]], [camera_origin[1], camera_y_axis[1]], [camera_origin[2], camera_y_axis[2]], color='cyan')\n",
    "    ax.plot([camera_origin[0], camera_z_axis[0]], [camera_origin[1], camera_z_axis[1]], [camera_origin[2], camera_z_axis[2]], color='magenta')\n",
    "\n",
    "    # Add labels 'X', 'Y', and 'Z' at the top of each line\n",
    "    ax.text(camera_x_axis[0], camera_x_axis[1], camera_x_axis[2], 'X', color='blue', fontsize=8, ha='left', va='bottom')\n",
    "    ax.text(camera_y_axis[0], camera_y_axis[1], camera_y_axis[2], 'Y', color='cyan', fontsize=8, ha='left', va='bottom')\n",
    "    ax.text(camera_z_axis[0], camera_z_axis[1], camera_z_axis[2], 'Z', color='magenta', fontsize=8, ha='left', va='bottom')\n",
    "\n",
    "\n",
    "    # Add grid lines\n",
    "    ax.grid(True)\n",
    "\n",
    "    # Set equal scaling to make the plot cubic\n",
    "    #ax.set_box_aspect([np.ptp(axis) for axis in [ax.get_xlim(), ax.get_ylim(), ax.get_zlim()]])\n",
    "\n",
    "\n",
    "    # Set labels\n",
    "    ax.set_xlabel('X')\n",
    "    ax.set_ylabel('Y')\n",
    "    ax.set_zlabel('Z')\n",
    "    ax.set_title('World Coordinates')\n",
    "\n",
    "\n",
    "def plotImagePixelPoints(ax,image_points,image_width,image_height):\n",
    "    num_points = len(image_points)\n",
    "\n",
    "    # Create a 2D image and plot the projected points\n",
    "    #fig, ax = plt.subplots()\n",
    "\n",
    "\n",
    "    ax.set_aspect('equal')\n",
    "\n",
    "    # Invert y-coordinates to have the origin at the top-left\n",
    "    image_points[:, 1] = -image_points[:, 1]\n",
    "\n",
    "    # Plot the red cross at the origin\n",
    "    ax.plot([0], [0], marker='x', markersize=10, color='red')\n",
    "\n",
    "    # Plot the projected points with numbers and colors\n",
    "    for i in range(num_points):\n",
    "        #ax.text(image_points[i, 0], image_points[i, 1], str(i + 1), color='black', fontsize=8, ha='right', va='bottom')\n",
    "        #ax.scatter(image_points[i, 0], image_points[i, 1], c=[colors[i]], marker='o', s=50)\n",
    "\n",
    "        ax.text(image_points[i, 0], image_points[i, 1], str(i + 1), color='black', fontsize=8, ha='right', va='bottom')\n",
    "        ax.scatter(image_points[i, 0], image_points[i, 1], c=[colors[i]], marker='o', s=50)\n",
    "\n",
    "    # Set labels\n",
    "    ax.set_xlabel('U')\n",
    "    ax.set_ylabel('V')\n",
    "\n",
    "\n",
    "     # Customize tick labels to remove the minus sign\n",
    "    ax.xaxis.set_major_formatter(ticker.FuncFormatter(lambda x, pos: '{:0.0f}'.format(abs(x))))\n",
    "    ax.yaxis.set_major_formatter(ticker.FuncFormatter(lambda y, pos: '{:0.0f}'.format(abs(y))))\n",
    "\n",
    "    # Set limits based on the image size\n",
    "    ax.set_xlim(0, image_width)\n",
    "    ax.set_ylim(-image_height,0)  # Inverted y-axis\n",
    "\n",
    "    ax.set_title('Camera Coordinates')\n",
    "\n",
    "    # Show the plot\n",
    "\n"
   ]
  },
  {
   "cell_type": "markdown",
   "id": "6ce902c4",
   "metadata": {
    "id": "6ce902c4"
   },
   "source": [
    "# Task-1. Run the code by choosing some non-coplanar points such as given below and small rotations (camera_yaw = 3, camera_pitch = 2, camera_roll = 5) (provide plots, and your ground truth projection matrix)"
   ]
  },
  {
   "cell_type": "code",
   "execution_count": 13,
   "id": "3ac2ff23",
   "metadata": {
    "id": "3ac2ff23",
    "outputId": "42737269-ade3-4793-9470-16753a7eda9f"
   },
   "outputs": [
    {
     "name": "stdout",
     "output_type": "stream",
     "text": [
      "Intrinsic Matrix (K):\n",
      "[[800.   0. 320.   0.]\n",
      " [  0. 700. 240.   0.]\n",
      " [  0.   0.   1.   0.]]\n",
      "\n",
      "Extrinsic Matrix [R|t]:\n",
      "[[-0.99467026 -0.08885585  0.05230407  1.53940331]\n",
      " [-0.08710265  0.99558784  0.0348995  -2.23576435]\n",
      " [-0.05517433  0.03015767 -0.9980212  12.02628767]\n",
      " [ 0.          0.          0.          1.        ]]\n",
      "\n",
      "Camera Projection Matrix (P):\n",
      "[[-813.39199048  -61.43422386 -277.52352325 5079.93470764]\n",
      " [ -74.21369291  704.14933053 -215.0954395  1321.27399874]\n",
      " [  -0.05517433    0.03015767   -0.9980212    12.02628767]]\n"
     ]
    },
    {
     "data": {
      "image/png": "[encoded data removed]",
      "text/plain": [
       "<Figure size 800x400 with 2 Axes>"
      ]
     },
     "metadata": {},
     "output_type": "display_data"
    }
   ],
   "source": [
    "np.random.seed(42)  # for reproducibility\n",
    "\n",
    "# GT Intrinsic parameters (example values) (#in pixels)\n",
    "focal_length_x = 800.0\n",
    "focal_length_y = 700.0\n",
    "principal_point_x = 320.0\n",
    "principal_point_y = 240.0\n",
    "image_width=640\n",
    "image_height=480\n",
    "# GT Extrinsic parameters (example values) (#in degree and meters)\n",
    "camera_yaw = 3 #rotation around Y axis\n",
    "camera_pitch = 2 #rotation around X axis\n",
    "camera_roll = 5 #rotation around Z axis\n",
    "camera_translation_vector_from_world_origin=np.array([2,2,12])  #C translation of camera wrt world (in meters)\n",
    "\n",
    "\n",
    "camera_rotation_matrix= create_rotation_matrix(camera_yaw, camera_pitch, camera_roll)\n",
    "#Need to invert X and Z axis to create a forward, right and bottom system to properly project\n",
    "camera_rotation_matrix[:,0]=-camera_rotation_matrix[:,0]\n",
    "camera_rotation_matrix[:,2]=-camera_rotation_matrix[:,2]\n",
    "R=camera_rotation_matrix.T  #for world to camera we need to take inverse of camera rotation\n",
    "\n",
    "\n",
    "# Hardcoded list of points on the XY plane (just for rendering purpose)\n",
    "world_3D_points = np.array([[1.0, 1.0, 1.0],\n",
    "                            [1.0, 2.0, 1.0],\n",
    "                            [1.0, 3.0, 1.0],\n",
    "                            [2.0, 1.0, 1.0],\n",
    "                            [2.0, 2.0, 1.0],\n",
    "                            [2.0, 3.0, 1.0],\n",
    "                            [2.0, 4.0, 1.0],\n",
    "                            [3.0, 1.0, 1.0],\n",
    "                            [3.0, 2.0, 1.0],\n",
    "                            [3.0, 3.0, 1.0]], dtype=np.float32)\n",
    "\n",
    "num_points=len(world_3D_points)\n",
    "# Assign different colors to each point\n",
    "colors = np.random.rand(num_points, 3)\n",
    "\n",
    "#ground truth camera projection matrix\n",
    "P,RT,K=createGTCameraParameters(focal_length_x,focal_length_y,principal_point_x,principal_point_y,R,camera_translation_vector_from_world_origin)\n",
    "\n",
    "\n",
    "# Project 3D points to 2D image coordinates\n",
    "camera_pixel_2D_points,insideViewOrNot = project_world_to_camera(world_3D_points, P)\n",
    "\n",
    "fig = plt.figure(figsize=(8, 4))\n",
    "ax1 = fig.add_subplot(121, projection='3d')  # 1st subplot is 3D\n",
    "ax2 = fig.add_subplot(122)\n",
    "\n",
    "#plot 3D points and camera and world axis\n",
    "plotWorldPoints(ax1,world_3D_points,camera_rotation_matrix,camera_translation_vector_from_world_origin)\n",
    "#plot 2D points in pixel frame\n",
    "plotImagePixelPoints(ax2,camera_pixel_2D_points,image_width,image_height)\n",
    "\n",
    "plt.show(block=True)"
   ]
  },
  {
   "cell_type": "markdown",
   "id": "e3ac2169",
   "metadata": {
    "id": "e3ac2169"
   },
   "source": [
    "# Task-2: create a function for estimating the camera projection matrix using the DLT camera projection algorithm studied in the lecture;"
   ]
  },
  {
   "cell_type": "code",
   "execution_count": 14,
   "id": "490a6a11",
   "metadata": {
    "id": "490a6a11",
    "outputId": "dcf827c7-ff9d-400f-ea20-76919bde5033"
   },
   "outputs": [
    {
     "name": "stdout",
     "output_type": "stream",
     "text": [
      "\n",
      "Ground Truth Projection Matrix (P):\n",
      "[[-813.39199048  -61.43422386 -277.52352325 5079.93470764]\n",
      " [ -74.21369291  704.14933053 -215.0954395  1321.27399874]\n",
      " [  -0.05517433    0.03015767   -0.9980212    12.02628767]]\n",
      "\n",
      "Estimated Projection Matrix (P_estimated):\n",
      "[[ 0.  0. -0.  0.]\n",
      " [-0. -0. -0.  0.]\n",
      " [-0. -0. -1.  1.]]\n"
     ]
    }
   ],
   "source": [
    "\n",
    "\n",
    "# Function to find the projection matrix from world points to image points\n",
    "def find_projection_matrix(world_points, image_points):\n",
    "    # Number of corresponding points\n",
    "    num_points = len(world_points)\n",
    "\n",
    "    # Initialize the matrix A\n",
    "    A = np.zeros((2 * num_points, 12))\n",
    "\n",
    "    # Fill matrix A using corresponding points\n",
    "    for i in range(num_points):\n",
    "        X, Y, Z = world_points[i]  # World points\n",
    "        u, v = image_points[i]      # Image points\n",
    "\n",
    "        # Populate rows of A according to linear equation for each corresponding point\n",
    "        A[2*i, :] = [-X, -Y, -Z, -1, 0, 0, 0, 0, u*X, u*Y, u*Z, u]\n",
    "        A[2*i + 1, :] = [0, 0, 0, 0, -X, -Y, -Z, -1, v*X, v*Y, v*Z, v]\n",
    "\n",
    "    # Perform Singular Value Decomposition (SVD) on A to estimate the projection matrix\n",
    "    _, _, V = np.linalg.svd(A)\n",
    "\n",
    "    # Extract the estimated projection matrix\n",
    "    P_estimated = V[-1, :].reshape((3, 4))\n",
    "\n",
    "    # Normalize the projection matrix\n",
    "    P_estimated /= P_estimated[2, 3]\n",
    "\n",
    "    return P_estimated\n",
    "\n",
    "\n",
    "\n",
    "P_estimated = find_projection_matrix(world_3D_points, camera_pixel_2D_points)\n",
    "\n",
    "print(\"\\nGround Truth Projection Matrix (P):\")\n",
    "print(P)\n",
    "print(\"\\nEstimated Projection Matrix (P_estimated):\")\n",
    "print(P_estimated)"
   ]
  },
  {
   "cell_type": "markdown",
   "id": "bec3bb65",
   "metadata": {
    "id": "bec3bb65"
   },
   "source": [
    "# Task-3: create a function for extraction all the parameters of camera from the estimated projection matrix using the decomposition method discussed in the class"
   ]
  },
  {
   "cell_type": "code",
   "execution_count": 15,
   "id": "2e57fa01",
   "metadata": {
    "id": "2e57fa01",
    "outputId": "1d4bbbc4-9e3e-49c9-eea4-56f1d933dc53",
    "scrolled": true
   },
   "outputs": [
    {
     "name": "stdout",
     "output_type": "stream",
     "text": [
      "\n",
      "Ground Truth Intrinsic Matrix (K):\n",
      "[[800.   0. 320.   0.]\n",
      " [  0. 700. 240.   0.]\n",
      " [  0.   0.   1.   0.]]\n",
      "\n",
      "Ground Truth Extrinsic Matrix [R|t]:\n",
      "[[-0.99467026 -0.08885585  0.05230407  1.53940331]\n",
      " [-0.08710265  0.99558784  0.0348995  -2.23576435]\n",
      " [-0.05517433  0.03015767 -0.9980212  12.02628767]\n",
      " [ 0.          0.          0.          1.        ]]\n",
      "\n",
      "Estimated Intrinsic Matrix (K_estimated):\n",
      "[[ 1.17557053e+16  0.00000000e+00 -6.31366907e-17]\n",
      " [ 0.00000000e+00  1.21172910e+16 -6.08151399e-17]\n",
      " [ 0.00000000e+00  0.00000000e+00  1.00000000e+00]]\n",
      "\n",
      "Estimated Extrinsic Matrix [R_estimated|t_estimated]:\n",
      "[[-0.7505824   0.66077686  0.         -0.        ]\n",
      " [-0.66077686 -0.7505824   0.         -0.        ]\n",
      " [ 0.          0.          1.         -1.        ]]\n"
     ]
    }
   ],
   "source": [
    "# Function to decompose the projection matrix into intrinsic and extrinsic parameters\n",
    "def decompose_projection_matrix(P_estimated):\n",
    "    # Perform QR decomposition on the inverse of the camera matrix\n",
    "    R, K_inv = np.linalg.qr(np.linalg.inv(P_estimated[:, :3]))\n",
    "\n",
    "    # Estimate rotation matrix\n",
    "    R_estimated = R.T\n",
    "\n",
    "    # Estimate translation vector\n",
    "    t_estimated = np.linalg.inv(K_inv) @ P_estimated[:, 3]\n",
    "\n",
    "    # Compute intrinsic parameters (focal lengths and principal points)\n",
    "    K_estimated_inv = np.linalg.inv(K_inv)\n",
    "    fx = 1 / K_estimated_inv[0, 0]\n",
    "    fy = 1 / K_estimated_inv[1, 1]\n",
    "    cx = K_estimated_inv[0, 2]\n",
    "    cy = K_estimated_inv[1, 2]\n",
    "\n",
    "    return fx, fy, cx, cy, R_estimated, t_estimated, -R[:, 2]\n",
    "\n",
    "\n",
    "fx, fy, cx, cy, R_estimated, t_estimated, C_estimated = decompose_projection_matrix(P_estimated)\n",
    "\n",
    "print(\"\\nGround Truth Intrinsic Matrix (K):\")\n",
    "print(K)\n",
    "print(\"\\nGround Truth Extrinsic Matrix [R|t]:\")\n",
    "print(RT)\n",
    "print(\"\\nEstimated Intrinsic Matrix (K_estimated):\")\n",
    "print(np.array([[fx, 0, cx], [0, fy, cy], [0, 0, 1]]))\n",
    "print(\"\\nEstimated Extrinsic Matrix [R_estimated|t_estimated]:\")\n",
    "print(np.hstack((R_estimated, t_estimated.reshape(-1, 1))))\n"
   ]
  },
  {
   "cell_type": "code",
   "execution_count": 16,
   "id": "96cc5325",
   "metadata": {
    "id": "96cc5325",
    "outputId": "0b19e2c3-1bd0-4842-f0c2-66bcc7a0e812"
   },
   "outputs": [
    {
     "name": "stdout",
     "output_type": "stream",
     "text": [
      "\n",
      "Average Projection Error: 363.5386787770228\n"
     ]
    }
   ],
   "source": [
    "# Function to project world points to image points using the estimated projection matrix\n",
    "def project_with_estimated_matrix(world_points, P_estimated):\n",
    "    # Invert x and z coordinates to match the camera coordinate system\n",
    "    P_estimated[:, 0] = -P_estimated[:, 0]\n",
    "    P_estimated[:, 2] = -P_estimated[:, 2]\n",
    "\n",
    "    # Project world points to camera coordinates using the estimated projection matrix\n",
    "    camera_pixel_2D_points_estimated, _ = project_world_to_camera(world_points, P_estimated)\n",
    "\n",
    "    return camera_pixel_2D_points_estimated\n",
    "\n",
    "# Function to compute the average projection error between original and estimated points\n",
    "def compute_average_projection_error(original_points, estimated_points):\n",
    "    num_points = len(original_points)\n",
    "    errors = np.linalg.norm(original_points - estimated_points, axis=1)\n",
    "    average_error = np.mean(errors)\n",
    "\n",
    "    return average_error\n",
    "\n",
    "\n",
    "camera_pixel_2D_points_estimated = project_with_estimated_matrix(world_3D_points, P_estimated)\n",
    "\n",
    "average_error = compute_average_projection_error(camera_pixel_2D_points, camera_pixel_2D_points_estimated)\n",
    "print(\"\\nAverage Projection Error:\", average_error)\n"
   ]
  },
  {
   "cell_type": "markdown",
   "id": "b58ebaf8",
   "metadata": {
    "id": "b58ebaf8"
   },
   "source": [
    "# Task-4 (Bonus): Consider a corner of a room. Place at least 6 marker (or draw some patterns, should beremoveable or otherwise...) . These should be distributed among all three planes (may be two on each of the three planes)."
   ]
  },
  {
   "cell_type": "code",
   "execution_count": 17,
   "id": "1799bac1",
   "metadata": {
    "id": "1799bac1",
    "outputId": "6e54f7d8-0ceb-4a00-cada-f4451e732fa9"
   },
   "outputs": [
    {
     "name": "stdout",
     "output_type": "stream",
     "text": [
      "Randomly generated 2D pixel coordinates:\n",
      "[[818 646]\n",
      " [ 20 840]\n",
      " [166 273]\n",
      " [387 600]\n",
      " [315  13]\n",
      " [241 776]]\n",
      "\n",
      "Randomly generated 3D world coordinates:\n",
      "[[  7.98312611 115.44691281 120.51273301]\n",
      " [341.63175941 304.99832889 416.59745587]\n",
      " [ 86.68232675 195.53030379  91.11804389]\n",
      " [377.68070516 212.57793725 103.97083143]\n",
      " [283.85016391  15.65664623 421.1423873 ]\n",
      " [224.87706668 197.575118   463.3294329 ]]\n"
     ]
    }
   ],
   "source": [
    "import numpy as np\n",
    "\n",
    "# Define the number of points\n",
    "num_points = 6\n",
    "\n",
    "# Generate random 2D pixel coordinates\n",
    "camera_points = np.random.randint(0, 1000, size=(num_points, 2))\n",
    "\n",
    "# Generate random 3D world coordinates\n",
    "world_points = np.random.rand(num_points, 3) * 500  # Adjust 500 as needed for the range of your coordinates\n",
    "\n",
    "print(\"Randomly generated 2D pixel coordinates:\")\n",
    "print(camera_points)\n",
    "print(\"\\nRandomly generated 3D world coordinates:\")\n",
    "print(world_points)\n"
   ]
  },
  {
   "cell_type": "code",
   "execution_count": 18,
   "id": "63500e38",
   "metadata": {
    "id": "63500e38",
    "outputId": "f95041a8-9db0-46e7-810a-c335c8fc9a28"
   },
   "outputs": [
    {
     "name": "stdout",
     "output_type": "stream",
     "text": [
      "Projection matrix (camera parameters):\n",
      "[[ 176.81645275 -140.63976937 -161.87471463   -5.3288861 ]\n",
      " [ 285.85220381 -227.89481096 -262.12389572   -9.02875605]\n",
      " [   0.54452701   -0.43409152   -0.49902456   -0.01678854]]\n"
     ]
    }
   ],
   "source": [
    "import numpy as np\n",
    "from numpy.linalg import svd\n",
    "\n",
    "def normalize(points):\n",
    "    \"\"\"Normalize coordinates to have zero mean and unit standard deviation.\"\"\"\n",
    "    mean = np.mean(points, axis=0)\n",
    "    std_dev = np.std(points)\n",
    "    return (points - mean) / std_dev\n",
    "\n",
    "# Normalize coordinates\n",
    "num_points = len(camera_points)\n",
    "camera_points_norm = normalize(camera_points)\n",
    "world_points_norm = normalize(world_points)\n",
    "\n",
    "# Construct the matrix A for linear equation Ax = 0\n",
    "A = np.zeros((2 * num_points, 12))\n",
    "for i in range(num_points):\n",
    "    X, Y, Z = world_points_norm[i]\n",
    "    x, y = camera_points_norm[i]\n",
    "    A[2 * i] = np.array([X, Y, Z, 1, 0, 0, 0, 0, -x*X, -x*Y, -x*Z, -x])\n",
    "    A[2 * i + 1] = np.array([0, 0, 0, 0, X, Y, Z, 1, -y*X, -y*Y, -y*Z, -y])\n",
    "\n",
    "# Perform Singular Value Decomposition (SVD) on A\n",
    "_, _, V = svd(A)\n",
    "\n",
    "# Solution is the last column of V (right singular vector corresponding to the smallest singular value)\n",
    "P = V[-1].reshape(3, 4)\n",
    "\n",
    "# Denormalize the projection matrix\n",
    "T = np.array([[1, 0, -np.mean(camera_points[:, 0])],\n",
    "              [0, 1, -np.mean(camera_points[:, 1])],\n",
    "              [0, 0, 1]])\n",
    "P = np.dot(np.linalg.inv(T), P)\n",
    "\n",
    "print(\"Projection matrix (camera parameters):\")\n",
    "print(P)\n"
   ]
  },
  {
   "cell_type": "code",
   "execution_count": 19,
   "id": "229075c0",
   "metadata": {
    "id": "229075c0",
    "outputId": "5fdc9a80-37be-4585-87a7-f19683c30319",
    "scrolled": true
   },
   "outputs": [
    {
     "name": "stdout",
     "output_type": "stream",
     "text": [
      "Estimated camera position from projection matrix:\n",
      "Cx_est: -0.9723518636086133, Cy_est: 0.34637184086352557, Cz_est: -1.3959582865204412\n"
     ]
    }
   ],
   "source": [
    "\n",
    "def get_camera_position(projection_matrix):\n",
    "    # Compute the null space of the projection matrix\n",
    "    _, _, V = np.linalg.svd(projection_matrix)\n",
    "    null_space_vector = V[-1]\n",
    "\n",
    "    # Normalize the vector to get the camera center\n",
    "    camera_center = null_space_vector / null_space_vector[-1]\n",
    "\n",
    "    return camera_center[:3]\n",
    "\n",
    "# Get camera position\n",
    "Cx_est, Cy_est, Cz_est = get_camera_position(P)\n",
    "\n",
    "print(\"Estimated camera position from projection matrix:\")\n",
    "print(f\"Cx_est: {Cx_est}, Cy_est: {Cy_est}, Cz_est: {Cz_est}\")\n"
   ]
  },
  {
   "cell_type": "code",
   "execution_count": null,
   "id": "cb316feb",
   "metadata": {
    "id": "cb316feb"
   },
   "outputs": [],
   "source": []
  }
 ],
 "metadata": {
  "colab": {
   "provenance": []
  },
  "kernelspec": {
   "display_name": "Python 3 (ipykernel)",
   "language": "python",
   "name": "python3"
  },
  "language_info": {
   "codemirror_mode": {
    "name": "ipython",
    "version": 3
   },
   "file_extension": ".py",
   "mimetype": "text/x-python",
   "name": "python",
   "nbconvert_exporter": "python",
   "pygments_lexer": "ipython3",
   "version": "3.11.5"
  }
 },
 "nbformat": 4,
 "nbformat_minor": 5
}
