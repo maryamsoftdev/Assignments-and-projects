{
  "nbformat": 4,
  "nbformat_minor": 0,
  "metadata": {
    "colab": {
      "provenance": []
    },
    "kernelspec": {
      "name": "python3",
      "display_name": "Python 3"
    },
    "language_info": {
      "name": "python"
    }
  },
  "cells": [
    {
      "cell_type": "code",
      "execution_count": 1,
      "metadata": {
        "colab": {
          "base_uri": "https://localhost:8080/"
        },
        "id": "HJZzzjpggNbj",
        "outputId": "96bdc296-dee8-451a-91bf-ef89df171bd6"
      },
      "outputs": [
        {
          "output_type": "stream",
          "name": "stdout",
          "text": [
            "   size  bedrooms  sale_price  size_normalized  bedrooms_normalized\n",
            "0  1600         5        2.28         1.000000             1.000000\n",
            "1  1200         4        1.50         0.534884             0.666667\n",
            "2   740         2        0.88         0.000000             0.000000\n",
            "b = -0.5426361031518605\n",
            "w1 = 0.0026934097421203408\n",
            "w2 = -0.29736389684813713\n",
            "Predicted sale price: [2.60538682]\n",
            "Mean Squared Error: 1.8488927466117464e-31\n"
          ]
        }
      ],
      "source": [
        "import pandas as pd\n",
        "\n",
        "# Create a DataFrame with the given data\n",
        "data = {'size': [1600, 1200, 740],\n",
        "        'bedrooms': [5, 4, 2],\n",
        "        'sale_price': [2.28, 1.5, 0.88]}\n",
        "df = pd.DataFrame(data)\n",
        "\n",
        "# Min-Max normalization\n",
        "df['size_normalized'] = (df['size'] - df['size'].min()) / (df['size'].max() - df['size'].min())\n",
        "df['bedrooms_normalized'] = (df['bedrooms'] - df['bedrooms'].min()) / (df['bedrooms'].max() - df['bedrooms'].min())\n",
        "\n",
        "# Print the normalized DataFrame\n",
        "print(df)\n",
        "\n",
        "\n",
        "#2. Linear Regression:\n",
        "\n",
        "#python\n",
        "from sklearn.linear_model import LinearRegression\n",
        "from sklearn.metrics import mean_squared_error\n",
        "\n",
        "# Create a DataFrame with the given data\n",
        "data = {'size': [1600, 1200, 749],\n",
        "        'bedrooms': [5, 4, 2],\n",
        "        'sale_price': [2.28, 1.5, 0.88]}\n",
        "df = pd.DataFrame(data)\n",
        "\n",
        "# Create the feature matrix X and the target variable y\n",
        "X = df[['size', 'bedrooms']]\n",
        "y = df['sale_price']\n",
        "\n",
        "# Train the linear regression model\n",
        "model = LinearRegression()\n",
        "model.fit(X, y)\n",
        "\n",
        "# Get the coefficients\n",
        "b = model.intercept_\n",
        "w1, w2 = model.coef_\n",
        "\n",
        "# Print the coefficients\n",
        "print(\"b =\", b)\n",
        "print(\"w1 =\", w1)\n",
        "print(\"w2 =\", w2)\n",
        "\n",
        "# Predict the sale price of a house with size 1500 square feet and 3 bedrooms\n",
        "new_data = {'size': [1500],\n",
        "            'bedrooms': [3]}\n",
        "new_df = pd.DataFrame(new_data)\n",
        "predicted_price = model.predict(new_df)\n",
        "print(\"Predicted sale price:\", predicted_price)\n",
        "\n",
        "# Calculate the mean squared error\n",
        "y_pred = model.predict(X)\n",
        "mse = mean_squared_error(y, y_pred)\n",
        "print(\"Mean Squared Error:\", mse)"
      ]
    }
  ]
}