{
  "cells": [
    {
      "cell_type": "code",
      "execution_count": 15,
      "id": "31072042",
      "metadata": {
        "colab": {
          "base_uri": "https://localhost:8080/"
        },
        "id": "31072042",
        "outputId": "07c00fb4-8acd-4841-c45f-cfb2828c3958"
      },
      "outputs": [
        {
          "output_type": "stream",
          "name": "stdout",
          "text": [
            "Loss: 1.1020419597625732\n"
          ]
        }
      ],
      "source": [
        "import torch\n",
        "import torch.nn as nn\n",
        "import torch.optim as optim\n",
        "from sklearn.datasets import load_iris\n",
        "from sklearn.model_selection import train_test_split\n",
        "from sklearn.preprocessing import StandardScaler\n",
        "import pandas as pd\n",
        "\n",
        "# Load Iris data\n",
        "iris = load_iris()\n",
        "X = iris.data\n",
        "y = iris.target\n",
        "\n",
        "# Standardize the features\n",
        "scaler = StandardScaler()\n",
        "X_scaled = scaler.fit_transform(X)\n",
        "\n",
        "# Convert to PyTorch tensors\n",
        "X_tensor = torch.tensor(X_scaled, dtype=torch.float32)\n",
        "y_tensor = torch.tensor(y, dtype=torch.long)\n",
        "\n",
        "# Define the neural network model\n",
        "class IrisNet(nn.Module):\n",
        "    def __init__(self):\n",
        "        super(IrisNet, self).__init__()  # Corrected '__init__' here\n",
        "        self.fc1 = nn.Linear(4, 10)  # 4 input features, 10 neurons in hidden layer\n",
        "        self.fc2 = nn.Linear(10, 3)  # 3 outputs (for 3 classes of iris)\n",
        "\n",
        "    def forward(self, x):\n",
        "        x = torch.relu(self.fc1(x))\n",
        "        x = self.fc2(x)\n",
        "        return x\n",
        "\n",
        "# Create an instance of the network\n",
        "net = IrisNet()\n",
        "\n",
        "# Define a loss function and optimizer with momentum\n",
        "criterion = nn.CrossEntropyLoss()\n",
        "\n",
        "optimizer = optim.SGD(net.parameters(), lr=0.01)\n",
        "\n",
        "#optimizer = optim.SGD(net.parameters(), lr=0.01, momentum=0.9)  # Using SGD with momentum\n",
        "'''Configuring the Adagrad optimizer with additional parameters\n",
        "optimizer = optim.Adagrad(\n",
        "    net.parameters(),\n",
        "    lr=0.01,                             # Learning rate\n",
        "    lr_decay=0,                          # Learning rate decay\n",
        "    weight_decay=0,                      # L2 penalty\n",
        "    initial_accumulator_value=0.1        # Initial value of the accumulator\n",
        ")\n",
        "'''\n",
        "#optimizer = optim.Adagrad(net.parameters(), lr=0.01)\n",
        "'''\n",
        "optimizer = optim.Adam(\n",
        "    net.parameters(),\n",
        "    lr=0.01,                 # Learning rate\n",
        "    betas=(0.9, 0.999),      # Beta values\n",
        "    eps=1e-8,                # Epsilon for numerical stability\n",
        "    weight_decay=1e-4,       # L2 penalty\n",
        "    amsgrad=True             # Use AMSGrad variant of Adam\n",
        ")\n",
        "'''\n",
        "# Forward pass: Compute predicted outputs by passing inputs to the model\n",
        "outputs = net(X_tensor)\n",
        "\n",
        "# Compute loss\n",
        "loss = criterion(outputs, y_tensor)\n",
        "\n",
        "# Zero the parameter gradients\n",
        "optimizer.zero_grad()\n",
        "\n",
        "# Backward pass: compute gradient of the loss with respect to model parameters\n",
        "loss.backward()\n",
        "\n",
        "# Perform a single optimization step (parameter update)\n",
        "optimizer.step()\n",
        "\n",
        "print(\"Loss:\", loss.item())\n"
      ]
    }
  ],
  "metadata": {
    "kernelspec": {
      "display_name": "Python 3 (ipykernel)",
      "language": "python",
      "name": "python3"
    },
    "language_info": {
      "codemirror_mode": {
        "name": "ipython",
        "version": 3
      },
      "file_extension": ".py",
      "mimetype": "text/x-python",
      "name": "python",
      "nbconvert_exporter": "python",
      "pygments_lexer": "ipython3",
      "version": "3.9.12"
    },
    "colab": {
      "provenance": []
    }
  },
  "nbformat": 4,
  "nbformat_minor": 5
}