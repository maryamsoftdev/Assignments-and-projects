{
  "nbformat": 4,
  "nbformat_minor": 0,
  "metadata": {
    "colab": {
      "provenance": []
    },
    "kernelspec": {
      "name": "python3",
      "display_name": "Python 3"
    },
    "language_info": {
      "name": "python"
    }
  },
  "cells": [
    {
      "cell_type": "code",
      "execution_count": null,
      "metadata": {
        "id": "MHAA13Iad9QQ"
      },
      "outputs": [],
      "source": []
    },
    {
      "cell_type": "code",
      "source": [
        "import numpy as np\n",
        "\n",
        "# Given data\n",
        "data = np.array([\n",
        "    [1600, 5, 2.28],\n",
        "    [1200, 4, 1.5],\n",
        "    [740, 2, 0.88]\n",
        "])\n",
        "\n",
        "# Extract features and target variable\n",
        "X = data[:, :2]  # Features (size, bedrooms)\n",
        "y = data[:, 2]   # Target variable (sale price)\n",
        "\n",
        "# 1. Min-Max Normalization\n",
        "def min_max_normalization(data):\n",
        "    min_vals = np.min(data, axis=0)\n",
        "    max_vals = np.max(data, axis=0)\n",
        "    normalized_data = (data - min_vals) / (max_vals - min_vals)\n",
        "    return normalized_data\n",
        "\n",
        "X_normalized = min_max_normalization(X)\n",
        "\n",
        "# 2. Ridge Regression\n",
        "def ridge_regression(X, y, lambda_val):\n",
        "    # Add a bias term to X\n",
        "    X_b = np.c_[np.ones((X.shape[0], 1)), X]\n",
        "\n",
        "    # Ridge regression closed-form solution\n",
        "    A = np.eye(X_b.shape[1])\n",
        "    A[0, 0] = 0  # Do not regularize the bias term\n",
        "    w = np.linalg.inv(X_b.T.dot(X_b) + lambda_val * A).dot(X_b.T).dot(y)\n",
        "\n",
        "    return w\n",
        "\n",
        "# Ridge regression with lambda = 0.1\n",
        "lambda_val = 0.1\n",
        "ridge_coefficients = ridge_regression(X_normalized, y, lambda_val)\n",
        "\n",
        "# Report coefficients\n",
        "b = ridge_coefficients[0]\n",
        "w1, w2 = ridge_coefficients[1:]\n",
        "\n",
        "print(f\"Ridge Regression Coefficients (b, w1, w2): {b}, {w1}, {w2}\")\n",
        "\n",
        "# Predict the sale price for a house with size=1500 and bedrooms=3\n",
        "new_house = np.array([[1500, 3]])\n",
        "new_house_normalized = min_max_normalization(new_house)\n",
        "new_house_b = np.c_[np.ones((new_house.shape[0], 1)), new_house_normalized]  # Add bias term\n",
        "predicted_price = new_house_b.dot(ridge_coefficients)\n",
        "\n",
        "print(f\"Predicted Sale Price: {predicted_price[0]}\")\n",
        "\n",
        "# 3. Compare with Linear Regression Coefficients\n",
        "linear_coefficients = ridge_regression(X_normalized, y, lambda_val=0)\n",
        "\n",
        "print(f\"Linear Regression Coefficients (b, w1, w2): {linear_coefficients[0]}, {linear_coefficients[1]}, {linear_coefficients[2]}\")\n",
        "\n",
        "# 4. Discuss the impact of regularization term (lambda)\n",
        "# The regularization term penalizes large coefficients. In ridge regression,\n",
        "# it helps to prevent overfitting by keeping the coefficients smaller.\n",
        "\n",
        "# 5. Mean Squared Error\n",
        "mse_ridge = np.mean((np.c_[np.ones((X_normalized.shape[0], 1)), X_normalized].dot(ridge_coefficients) - y)**2)\n",
        "mse_linear = np.mean((np.c_[np.ones((X_normalized.shape[0], 1)), X_normalized].dot(linear_coefficients) - y)**2)\n",
        "\n",
        "print(f\"Mean Squared Error (Ridge): {mse_ridge}\")\n",
        "print(f\"Mean Squared Error (Linear): {mse_linear}\")\n"
      ],
      "metadata": {
        "colab": {
          "base_uri": "https://localhost:8080/"
        },
        "id": "QkwZSx6XeDpW",
        "outputId": "12a20dc0-0ba9-4acf-c2db-61f84d9e8a24"
      },
      "execution_count": null,
      "outputs": [
        {
          "output_type": "stream",
          "name": "stdout",
          "text": [
            "Ridge Regression Coefficients (b, w1, w2): 0.8906554160860161, 0.7099609836941461, 0.5389957172245166\n",
            "Predicted Sale Price: nan\n",
            "Linear Regression Coefficients (b, w1, w2): 0.879999999999994, 2.377647058823554, -0.9776470588235567\n",
            "Mean Squared Error (Ridge): 0.012217602851416176\n",
            "Mean Squared Error (Linear): 7.679889604370392e-29\n"
          ]
        },
        {
          "output_type": "stream",
          "name": "stderr",
          "text": [
            "<ipython-input-2-1297fab4a5eb>:18: RuntimeWarning: invalid value encountered in divide\n",
            "  normalized_data = (data - min_vals) / (max_vals - min_vals)\n"
          ]
        }
      ]
    }
  ]
}