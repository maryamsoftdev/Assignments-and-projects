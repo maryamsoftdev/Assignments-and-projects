{
 "cells": [
  {
   "cell_type": "code",
   "execution_count": 7,
   "metadata": {
    "colab": {
     "base_uri": "https://localhost:8080/",
     "height": 1000
    },
    "id": "wUiJ5cpY5RNG",
    "outputId": "03844b65-b7c1-4b3d-a114-01640319d34b"
   },
   "outputs": [
    {
     "name": "stdout",
     "output_type": "stream",
     "text": [
      "device:  cpu\n"
     ]
    },
    {
     "ename": "FileNotFoundError",
     "evalue": "[Errno 2] No such file or directory: '/bovwData/cat1.jpg'",
     "output_type": "error",
     "traceback": [
      "\u001b[0;31m---------------------------------------------------------------------------\u001b[0m",
      "\u001b[0;31mFileNotFoundError\u001b[0m                         Traceback (most recent call last)",
      "Cell \u001b[0;32mIn[7], line 42\u001b[0m\n\u001b[1;32m     40\u001b[0m images \u001b[38;5;241m=\u001b[39m []\n\u001b[1;32m     41\u001b[0m \u001b[38;5;28;01mfor\u001b[39;00m path \u001b[38;5;129;01min\u001b[39;00m image_paths:\n\u001b[0;32m---> 42\u001b[0m     img \u001b[38;5;241m=\u001b[39m Image\u001b[38;5;241m.\u001b[39mopen(path)\n\u001b[1;32m     43\u001b[0m     gray_img \u001b[38;5;241m=\u001b[39m img\u001b[38;5;241m.\u001b[39mconvert(\u001b[38;5;124m'\u001b[39m\u001b[38;5;124mL\u001b[39m\u001b[38;5;124m'\u001b[39m)\n\u001b[1;32m     44\u001b[0m     tensor_img \u001b[38;5;241m=\u001b[39m torch\u001b[38;5;241m.\u001b[39mtensor(np\u001b[38;5;241m.\u001b[39marray(gray_img), dtype\u001b[38;5;241m=\u001b[39mtorch\u001b[38;5;241m.\u001b[39mfloat32)\u001b[38;5;241m.\u001b[39munsqueeze(\u001b[38;5;241m0\u001b[39m)\u001b[38;5;241m.\u001b[39munsqueeze(\u001b[38;5;241m0\u001b[39m) \u001b[38;5;241m/\u001b[39m \u001b[38;5;241m255.0\u001b[39m\n",
      "File \u001b[0;32m~/anaconda3/lib/python3.11/site-packages/PIL/Image.py:3227\u001b[0m, in \u001b[0;36mopen\u001b[0;34m(fp, mode, formats)\u001b[0m\n\u001b[1;32m   3224\u001b[0m     filename \u001b[38;5;241m=\u001b[39m fp\n\u001b[1;32m   3226\u001b[0m \u001b[38;5;28;01mif\u001b[39;00m filename:\n\u001b[0;32m-> 3227\u001b[0m     fp \u001b[38;5;241m=\u001b[39m builtins\u001b[38;5;241m.\u001b[39mopen(filename, \u001b[38;5;124m\"\u001b[39m\u001b[38;5;124mrb\u001b[39m\u001b[38;5;124m\"\u001b[39m)\n\u001b[1;32m   3228\u001b[0m     exclusive_fp \u001b[38;5;241m=\u001b[39m \u001b[38;5;28;01mTrue\u001b[39;00m\n\u001b[1;32m   3230\u001b[0m \u001b[38;5;28;01mtry\u001b[39;00m:\n",
      "\u001b[0;31mFileNotFoundError\u001b[0m: [Errno 2] No such file or directory: '/bovwData/cat1.jpg'"
     ]
    }
   ],
   "source": [
    "import cv2\n",
    "import torch\n",
    "from PIL import Image\n",
    "import matplotlib.pyplot as plt\n",
    "import numpy as np\n",
    "import torch.nn.functional as F\n",
    "\n",
    "def gaussian_kernel(kernel_size, sigma):\n",
    "    # Create a 1D Gaussian kernel\n",
    "    kernel = cv2.getGaussianKernel(kernel_size, sigma)\n",
    "\n",
    "    # Compute the outer product to get a 2D Gaussian kernel\n",
    "    kernel = np.outer(kernel, kernel)\n",
    "\n",
    "    return kernel\n",
    "\n",
    "# Function to apply Gaussian blur with different sigma values\n",
    "def apply_gaussian_blur(image_tensor, sigmas, device):\n",
    "    blurred_images = []\n",
    "    for sigma in sigmas:\n",
    "        # Create a 2D Gaussian kernel\n",
    "        gaussian_kernel_2d = gaussian_kernel(kernel_size, sigma)\n",
    "        # Convert the kernel to a PyTorch tensor\n",
    "        gaussian_kernel_2d = torch.tensor(gaussian_kernel_2d, dtype=torch.float32).unsqueeze(0).unsqueeze(0).to(device)\n",
    "        # Apply the Gaussian blur using convolution\n",
    "        tensor_blurred = F.conv2d(image_tensor, gaussian_kernel_2d, padding=kernel_size//2)[0]\n",
    "        blurred_images.append(tensor_blurred.cpu().numpy()[0])\n",
    "    return blurred_images\n",
    "\n",
    "# Specify the device string\n",
    "device = 'cuda:0' if torch.cuda.is_available() else 'cpu'\n",
    "print('device: ', device)\n",
    "\n",
    "# Load and preprocess the dataset\n",
    "# Assuming you have a list of image file paths named 'image_paths'\n",
    "main_directory = r'/bovwData/'\n",
    "image_paths = [f'{main_directory}cat1.jpg', f'{main_directory}cat2.jpg', f'{main_directory}cat3.jpg', f'{main_directory}cat4.jpg', f'{main_directory}cat5.jpg', f'{main_directory}cat6.jpg', f'{main_directory}cat7.jpg', f'{main_directory}cat8.jpg', f'{main_directory}cat9.jpg', f'{main_directory}cat10.jpg',]  # Insert your image file paths here\n",
    "\n",
    "# Load and preprocess each image in the dataset\n",
    "images = []\n",
    "for path in image_paths:\n",
    "    img = Image.open(path)\n",
    "    gray_img = img.convert('L')\n",
    "    tensor_img = torch.tensor(np.array(gray_img), dtype=torch.float32).unsqueeze(0).unsqueeze(0) / 255.0\n",
    "    tensor_img = tensor_img.to(device)\n",
    "    images.append(tensor_img)\n",
    "\n",
    "# Define kernel size\n",
    "kernel_size = 50\n",
    "\n",
    "# Define sigma values for Gaussian filters\n",
    "sigmas = [1,2,3,4,5,6,7,8,9,10]\n",
    "\n",
    "# Apply Gaussian blur to all images in the dataset with different sigma values\n",
    "blurred_images = []\n",
    "for image_tensor in images:\n",
    "    blurred_images_per_image = apply_gaussian_blur(image_tensor, sigmas, device)\n",
    "    blurred_images.append(blurred_images_per_image)\n",
    "\n",
    "# Display the original and result images using matplotlib subplots\n",
    "num_images = len(images)\n",
    "num_sigmas = len(sigmas)\n",
    "\n",
    "fig, axs = plt.subplots(num_images, num_sigmas + 1, figsize=(12, 6))\n",
    "\n",
    "# Display the original and result images using separate matplotlib plots for each image\n",
    "for i in range(num_images):\n",
    "    fig, axs = plt.subplots(1, num_sigmas + 1, figsize=(12, 6))\n",
    "\n",
    "    # Original image\n",
    "    axs[0].imshow(images[i][0].cpu().numpy().squeeze(), cmap='gray')\n",
    "    axs[0].set_title('Original Image')\n",
    "    axs[0].axis('off')\n",
    "\n",
    "    # Blurred images with different sigmas\n",
    "    for j in range(num_sigmas):\n",
    "        axs[j+1].imshow(blurred_images[i][j].squeeze(), cmap='gray')\n",
    "        axs[j+1].set_title('Sigma = {}'.format(sigmas[j]))\n",
    "        axs[j+1].axis('off')\n",
    "\n",
    "    plt.tight_layout()\n",
    "    plt.show(block=True)\n",
    "\n"
   ]
  },
  {
   "cell_type": "code",
   "execution_count": null,
   "metadata": {
    "id": "vuA8F1VX7RPg"
   },
   "outputs": [],
   "source": []
  }
 ],
 "metadata": {
  "accelerator": "GPU",
  "colab": {
   "gpuType": "T4",
   "provenance": []
  },
  "kernelspec": {
   "display_name": "Python 3 (ipykernel)",
   "language": "python",
   "name": "python3"
  },
  "language_info": {
   "codemirror_mode": {
    "name": "ipython",
    "version": 3
   },
   "file_extension": ".py",
   "mimetype": "text/x-python",
   "name": "python",
   "nbconvert_exporter": "python",
   "pygments_lexer": "ipython3",
   "version": "3.11.5"
  }
 },
 "nbformat": 4,
 "nbformat_minor": 1
}
