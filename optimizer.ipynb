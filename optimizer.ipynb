{
  "nbformat": 4,
  "nbformat_minor": 0,
  "metadata": {
    "colab": {
      "provenance": []
    },
    "kernelspec": {
      "name": "python3",
      "display_name": "Python 3"
    },
    "language_info": {
      "name": "python"
    }
  },
  "cells": [
    {
      "cell_type": "code",
      "execution_count": 1,
      "metadata": {
        "colab": {
          "base_uri": "https://localhost:8080/"
        },
        "id": "8BiLQBldwQ2G",
        "outputId": "8596430b-47a9-42f1-a942-84518a5a3f88"
      },
      "outputs": [
        {
          "output_type": "stream",
          "name": "stdout",
          "text": [
            "Loss: 1.0760066509246826\n"
          ]
        }
      ],
      "source": [
        "import torch\n",
        "import torch.nn as nn\n",
        "import torch.optim as optim\n",
        "from sklearn.datasets import load_iris\n",
        "from sklearn.model_selection import train_test_split\n",
        "from sklearn.preprocessing import StandardScaler\n",
        "import pandas as pd\n",
        "\n",
        "# Load Iris data\n",
        "iris = load_iris()\n",
        "X = iris.data\n",
        "y = iris.target\n",
        "\n",
        "# Standardize the features\n",
        "scaler = StandardScaler()\n",
        "X_scaled = scaler.fit_transform(X)\n",
        "\n",
        "# Convert to PyTorch tensors\n",
        "X_tensor = torch.tensor(X_scaled, dtype=torch.float32)\n",
        "y_tensor = torch.tensor(y, dtype=torch.long)\n",
        "\n",
        "# Define the neural network model\n",
        "class IrisNet(nn.Module):\n",
        "    def __init__(self):\n",
        "        super(IrisNet, self).__init__()\n",
        "        self.fc1 = nn.Linear(4, 10)  # 4 input features, 10 neurons in hidden layer\n",
        "        self.fc2 = nn.Linear(10, 3)  # 3 outputs (for 3 classes of iris)\n",
        "\n",
        "    def forward(self, x):\n",
        "        x = torch.relu(self.fc1(x))\n",
        "        x = self.fc2(x)\n",
        "        return x\n",
        "\n",
        "# Create an instance of the network\n",
        "net = IrisNet()\n",
        "\n",
        "# Define a loss function and optimizer with momentum\n",
        "criterion = nn.CrossEntropyLoss()\n",
        "#optimizer = optim.SGD(net.parameters(), lr=0.01)\n",
        "#optimizer = optim.SGD(net.parameters(), lr=0.01, momentum=0.9)\n",
        "optimizer = optim.Adagrad(net.parameters(), lr=0.01)\n",
        "\n",
        "# Forward pass: Compute predicted outputs by passing inputs to the model\n",
        "outputs = net(X_tensor)\n",
        "\n",
        "# Compute loss\n",
        "loss = criterion(outputs, y_tensor)\n",
        "\n",
        "# Zero the parameter gradients\n",
        "optimizer.zero_grad()\n",
        "\n",
        "# Backward pass: compute gradient of the loss with respect to model parameters\n",
        "loss.backward()\n",
        "\n",
        "# Perform a single optimization step (parameter update)\n",
        "optimizer.step()\n",
        "\n",
        "print(\"Loss:\", loss.item())\n"
      ]
    }
  ]
}